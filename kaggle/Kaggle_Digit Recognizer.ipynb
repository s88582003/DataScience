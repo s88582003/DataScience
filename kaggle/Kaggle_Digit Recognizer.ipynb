{
 "cells": [
  {
   "cell_type": "code",
   "execution_count": 1,
   "metadata": {},
   "outputs": [],
   "source": [
    "import pandas as pd\n",
    "import numpy as np"
   ]
  },
  {
   "cell_type": "code",
   "execution_count": 2,
   "metadata": {},
   "outputs": [
    {
     "name": "stdout",
     "output_type": "stream",
     "text": [
      "<class 'pandas.core.frame.DataFrame'>\n",
      "RangeIndex: 42000 entries, 0 to 41999\n",
      "Columns: 785 entries, label to pixel783\n",
      "dtypes: int64(785)\n",
      "memory usage: 251.5 MB\n"
     ]
    }
   ],
   "source": [
    "traindata = pd.read_csv('/Users/chungpinhsu/Downloads/train.csv')\n",
    "traindata.info()"
   ]
  },
  {
   "cell_type": "code",
   "execution_count": 3,
   "metadata": {},
   "outputs": [],
   "source": [
    "from sklearn.model_selection import train_test_split\n",
    "train_label = traindata.iloc[0:10001, 0:1]\n",
    "train_image = traindata.iloc[0:10001, 1:]\n",
    "train_image_trainimage, train_image_testimage, train_label_trainlabel, train_label_testlabel = train_test_split(train_image, train_label, random_state=0)"
   ]
  },
  {
   "cell_type": "code",
   "execution_count": 4,
   "metadata": {},
   "outputs": [
    {
     "ename": "AttributeError",
     "evalue": "'SVC' object has no attribute 'fix'",
     "output_type": "error",
     "traceback": [
      "\u001b[0;31m---------------------------------------------------------------------------\u001b[0m",
      "\u001b[0;31mAttributeError\u001b[0m                            Traceback (most recent call last)",
      "\u001b[0;32m<ipython-input-4-47591b88e177>\u001b[0m in \u001b[0;36m<module>\u001b[0;34m()\u001b[0m\n\u001b[1;32m      1\u001b[0m \u001b[0;32mfrom\u001b[0m \u001b[0msklearn\u001b[0m \u001b[0;32mimport\u001b[0m \u001b[0msvm\u001b[0m\u001b[0;34m\u001b[0m\u001b[0m\n\u001b[1;32m      2\u001b[0m \u001b[0mclf\u001b[0m \u001b[0;34m=\u001b[0m \u001b[0msvm\u001b[0m\u001b[0;34m.\u001b[0m\u001b[0mSVC\u001b[0m\u001b[0;34m(\u001b[0m\u001b[0;34m)\u001b[0m\u001b[0;34m\u001b[0m\u001b[0m\n\u001b[0;32m----> 3\u001b[0;31m \u001b[0mclf\u001b[0m\u001b[0;34m.\u001b[0m\u001b[0mfix\u001b[0m\u001b[0;34m(\u001b[0m\u001b[0mtrain_image_trainimage\u001b[0m\u001b[0;34m,\u001b[0m \u001b[0mtrain_label_trainlabel\u001b[0m\u001b[0;34m)\u001b[0m\u001b[0;34m\u001b[0m\u001b[0m\n\u001b[0m\u001b[1;32m      4\u001b[0m \u001b[0mclf\u001b[0m\u001b[0;34m.\u001b[0m\u001b[0mpredict\u001b[0m\u001b[0;34m(\u001b[0m\u001b[0mtrain_image_testimage\u001b[0m\u001b[0;34m)\u001b[0m\u001b[0;34m\u001b[0m\u001b[0m\n",
      "\u001b[0;31mAttributeError\u001b[0m: 'SVC' object has no attribute 'fix'"
     ]
    }
   ],
   "source": [
    "from sklearn import svm\n",
    "clf = svm.SVC()\n",
    "clf.fix(train_image_trainimage, train_label_trainlabel)\n",
    "clf.predict(train_image_testimage)\n"
   ]
  },
  {
   "cell_type": "code",
   "execution_count": 5,
   "metadata": {},
   "outputs": [
    {
     "name": "stderr",
     "output_type": "stream",
     "text": [
      "/Users/chungpinhsu/anaconda3/envs/ds/lib/python3.6/site-packages/sklearn/utils/validation.py:578: DataConversionWarning: A column-vector y was passed when a 1d array was expected. Please change the shape of y to (n_samples, ), for example using ravel().\n",
      "  y = column_or_1d(y, warn=True)\n"
     ]
    },
    {
     "data": {
      "text/plain": [
       "array([1, 1, 1, ..., 1, 1, 1])"
      ]
     },
     "execution_count": 5,
     "metadata": {},
     "output_type": "execute_result"
    }
   ],
   "source": [
    "from sklearn import svm\n",
    "clf = svm.SVC()\n",
    "clf.fit(train_image_trainimage, train_label_trainlabel)\n",
    "clf.predict(train_image_testimage)"
   ]
  },
  {
   "cell_type": "code",
   "execution_count": 6,
   "metadata": {},
   "outputs": [
    {
     "data": {
      "text/plain": [
       "1.0"
      ]
     },
     "execution_count": 6,
     "metadata": {},
     "output_type": "execute_result"
    }
   ],
   "source": [
    "clf.score(train_image_trainimage, train_label_trainlabel)"
   ]
  },
  {
   "cell_type": "code",
   "execution_count": 7,
   "metadata": {},
   "outputs": [
    {
     "data": {
      "text/plain": [
       "array([1, 1, 1, ..., 1, 1, 1])"
      ]
     },
     "execution_count": 7,
     "metadata": {},
     "output_type": "execute_result"
    }
   ],
   "source": [
    "from sklearn import svm\n",
    "clf = svm.SVC()\n",
    "clf.fit(train_image_trainimage, train_label_trainlabel.values.ravel())\n",
    "clf.predict(train_image_testimage)"
   ]
  },
  {
   "cell_type": "code",
   "execution_count": 8,
   "metadata": {},
   "outputs": [
    {
     "data": {
      "text/plain": [
       "1.0"
      ]
     },
     "execution_count": 8,
     "metadata": {},
     "output_type": "execute_result"
    }
   ],
   "source": [
    "clf.score(train_image_trainimage, train_label_trainlabel)"
   ]
  },
  {
   "cell_type": "code",
   "execution_count": 9,
   "metadata": {},
   "outputs": [
    {
     "data": {
      "text/plain": [
       "0.1135545781687325"
      ]
     },
     "execution_count": 9,
     "metadata": {},
     "output_type": "execute_result"
    }
   ],
   "source": [
    "clf.score(train_image_testimage, train_label_testlabel)"
   ]
  },
  {
   "cell_type": "code",
   "execution_count": 10,
   "metadata": {},
   "outputs": [
    {
     "data": {
      "text/plain": [
       "array([1, 1, 1, ..., 1, 1, 1])"
      ]
     },
     "execution_count": 10,
     "metadata": {},
     "output_type": "execute_result"
    }
   ],
   "source": [
    "clf = svm.SVC(kernel = 'rbf')\n",
    "clf.fit(train_image_trainimage, train_label_trainlabel.values.ravel())\n",
    "clf.predict(train_image_testimage)"
   ]
  },
  {
   "cell_type": "code",
   "execution_count": 11,
   "metadata": {},
   "outputs": [
    {
     "data": {
      "text/plain": [
       "0.1135545781687325"
      ]
     },
     "execution_count": 11,
     "metadata": {},
     "output_type": "execute_result"
    }
   ],
   "source": [
    "clf.score(train_image_testimage, train_label_testlabel)"
   ]
  },
  {
   "cell_type": "code",
   "execution_count": 12,
   "metadata": {},
   "outputs": [
    {
     "data": {
      "text/plain": [
       "array([5, 6, 2, ..., 9, 7, 6])"
      ]
     },
     "execution_count": 12,
     "metadata": {},
     "output_type": "execute_result"
    }
   ],
   "source": [
    "clf = svm.SVC(kernel = 'linear')\n",
    "clf.fit(train_image_trainimage, train_label_trainlabel.values.ravel())\n",
    "clf.predict(train_image_testimage)"
   ]
  },
  {
   "cell_type": "code",
   "execution_count": 13,
   "metadata": {},
   "outputs": [
    {
     "data": {
      "text/plain": [
       "0.91203518592562971"
      ]
     },
     "execution_count": 13,
     "metadata": {},
     "output_type": "execute_result"
    }
   ],
   "source": [
    "clf.score(train_image_testimage, train_label_testlabel)"
   ]
  },
  {
   "cell_type": "code",
   "execution_count": 14,
   "metadata": {},
   "outputs": [],
   "source": [
    "train_label = traindata.iloc[0:5001, 0:1]\n",
    "train_image = traindata.iloc[0:5001, 1:]\n",
    "train_image_trainimage, train_image_testimage, train_label_trainlabel, train_label_testlabel = train_test_split(train_image, train_label, random_state=0)"
   ]
  },
  {
   "cell_type": "code",
   "execution_count": 15,
   "metadata": {},
   "outputs": [
    {
     "data": {
      "text/plain": [
       "array([1, 6, 8, ..., 0, 2, 7])"
      ]
     },
     "execution_count": 15,
     "metadata": {},
     "output_type": "execute_result"
    }
   ],
   "source": [
    "clf = svm.SVC(kernel = 'linear')\n",
    "clf.fit(train_image_trainimage, train_label_trainlabel.values.ravel())\n",
    "clf.predict(train_image_testimage)"
   ]
  },
  {
   "cell_type": "code",
   "execution_count": 16,
   "metadata": {},
   "outputs": [
    {
     "data": {
      "text/plain": [
       "0.91446842525979222"
      ]
     },
     "execution_count": 16,
     "metadata": {},
     "output_type": "execute_result"
    }
   ],
   "source": [
    "clf.score(train_image_testimage, train_label_testlabel)"
   ]
  },
  {
   "cell_type": "code",
   "execution_count": 17,
   "metadata": {},
   "outputs": [],
   "source": [
    "train_label = traindata.iloc[0:3001, 0:1]\n",
    "train_image = traindata.iloc[0:3001, 1:]\n",
    "train_image_trainimage, train_image_testimage, train_label_trainlabel, train_label_testlabel = train_test_split(train_image, train_label, random_state=0)"
   ]
  },
  {
   "cell_type": "code",
   "execution_count": 18,
   "metadata": {},
   "outputs": [
    {
     "data": {
      "text/plain": [
       "array([3, 8, 7, 1, 8, 5, 7, 8, 6, 1, 1, 2, 0, 2, 1, 6, 9, 4, 8, 7, 7, 6, 0,\n",
       "       7, 2, 2, 9, 7, 4, 2, 6, 4, 4, 1, 5, 7, 8, 1, 9, 6, 1, 2, 7, 2, 5, 7,\n",
       "       5, 4, 1, 2, 8, 2, 0, 3, 3, 5, 5, 0, 8, 2, 6, 9, 6, 5, 5, 2, 5, 4, 8,\n",
       "       1, 4, 2, 5, 7, 3, 6, 9, 4, 9, 1, 4, 8, 2, 7, 6, 7, 4, 5, 6, 2, 7, 0,\n",
       "       5, 7, 0, 1, 6, 2, 5, 1, 6, 5, 2, 9, 2, 1, 2, 0, 2, 3, 0, 9, 9, 0, 3,\n",
       "       4, 9, 9, 0, 7, 7, 7, 0, 7, 4, 8, 2, 7, 2, 9, 4, 0, 0, 4, 1, 1, 1, 5,\n",
       "       4, 9, 0, 2, 8, 1, 9, 4, 1, 0, 7, 7, 6, 5, 4, 0, 6, 0, 0, 2, 1, 3, 6,\n",
       "       2, 9, 0, 1, 5, 0, 0, 5, 3, 6, 5, 9, 2, 6, 6, 8, 5, 8, 6, 4, 0, 3, 1,\n",
       "       3, 0, 7, 2, 2, 6, 1, 2, 7, 8, 1, 1, 1, 6, 0, 6, 8, 3, 3, 5, 5, 4, 7,\n",
       "       1, 6, 3, 2, 6, 8, 7, 1, 0, 5, 4, 9, 9, 1, 2, 1, 1, 2, 8, 3, 2, 4, 2,\n",
       "       4, 2, 3, 7, 9, 3, 1, 0, 1, 4, 8, 9, 7, 5, 8, 5, 9, 6, 7, 7, 4, 4, 0,\n",
       "       4, 4, 5, 6, 8, 6, 0, 3, 0, 3, 9, 1, 8, 6, 1, 4, 2, 6, 3, 3, 5, 5, 2,\n",
       "       5, 9, 1, 3, 6, 2, 6, 2, 4, 7, 5, 2, 6, 8, 4, 9, 4, 6, 1, 7, 4, 1, 0,\n",
       "       4, 5, 0, 1, 1, 0, 6, 2, 4, 8, 3, 3, 5, 2, 4, 6, 7, 1, 5, 3, 2, 9, 5,\n",
       "       8, 6, 0, 0, 1, 8, 6, 3, 2, 8, 9, 1, 7, 4, 6, 0, 7, 0, 8, 0, 8, 6, 4,\n",
       "       1, 1, 2, 4, 9, 2, 5, 4, 8, 6, 0, 6, 7, 9, 3, 6, 1, 9, 8, 8, 4, 8, 5,\n",
       "       5, 6, 0, 8, 9, 4, 6, 3, 9, 2, 5, 5, 4, 5, 4, 4, 0, 8, 3, 0, 9, 1, 5,\n",
       "       8, 3, 4, 7, 5, 4, 4, 4, 1, 5, 1, 3, 1, 9, 6, 9, 5, 9, 0, 8, 8, 9, 3,\n",
       "       5, 7, 1, 2, 3, 9, 2, 5, 6, 0, 4, 8, 2, 0, 2, 3, 4, 4, 7, 8, 4, 2, 6,\n",
       "       1, 9, 0, 3, 7, 6, 8, 9, 0, 1, 6, 8, 0, 6, 1, 0, 5, 5, 5, 7, 2, 3, 4,\n",
       "       5, 3, 5, 7, 5, 8, 6, 9, 0, 1, 5, 6, 2, 4, 9, 6, 1, 6, 6, 2, 6, 3, 4,\n",
       "       1, 4, 6, 1, 8, 4, 8, 3, 2, 5, 8, 8, 4, 6, 6, 0, 0, 9, 9, 6, 6, 3, 3,\n",
       "       2, 0, 8, 7, 1, 1, 2, 0, 9, 0, 0, 2, 8, 2, 2, 3, 5, 7, 6, 0, 9, 5, 2,\n",
       "       3, 1, 0, 0, 4, 4, 0, 0, 3, 5, 0, 0, 6, 8, 9, 1, 6, 3, 7, 1, 9, 2, 4,\n",
       "       3, 5, 9, 3, 5, 1, 7, 6, 5, 0, 0, 0, 7, 0, 9, 2, 2, 6, 4, 3, 1, 8, 9,\n",
       "       6, 0, 3, 9, 9, 7, 9, 1, 1, 6, 1, 1, 8, 3, 9, 1, 6, 7, 1, 7, 2, 7, 7,\n",
       "       1, 2, 6, 9, 2, 2, 2, 0, 0, 4, 8, 0, 0, 2, 8, 6, 0, 8, 9, 1, 4, 6, 1,\n",
       "       4, 5, 8, 6, 4, 4, 5, 5, 9, 5, 3, 8, 6, 4, 3, 1, 3, 9, 8, 1, 7, 6, 6,\n",
       "       4, 1, 7, 7, 7, 3, 3, 4, 5, 6, 7, 8, 1, 5, 2, 4, 6, 2, 9, 0, 7, 1, 8,\n",
       "       2, 6, 4, 8, 1, 9, 2, 9, 4, 8, 3, 2, 1, 8, 8, 8, 8, 2, 4, 1, 4, 3, 5,\n",
       "       6, 3, 6, 5, 3, 4, 9, 4, 7, 2, 0, 3, 7, 1, 5, 2, 8, 4, 5, 1, 1, 5, 2,\n",
       "       5, 5, 6, 4, 6, 3, 1, 6, 4, 1, 8, 8, 0, 5, 9, 3, 3, 3, 8, 9, 8, 4, 8,\n",
       "       1, 4, 7, 5, 7, 1, 3, 9, 7, 4, 5, 5, 4, 5, 2])"
      ]
     },
     "execution_count": 18,
     "metadata": {},
     "output_type": "execute_result"
    }
   ],
   "source": [
    "clf = svm.SVC(kernel = 'linear')\n",
    "clf.fit(train_image_trainimage, train_label_trainlabel.values.ravel())\n",
    "clf.predict(train_image_testimage)"
   ]
  },
  {
   "cell_type": "code",
   "execution_count": 19,
   "metadata": {},
   "outputs": [
    {
     "data": {
      "text/plain": [
       "0.92276964047936083"
      ]
     },
     "execution_count": 19,
     "metadata": {},
     "output_type": "execute_result"
    }
   ],
   "source": [
    "clf.score(train_image_testimage, train_label_testlabel)"
   ]
  },
  {
   "cell_type": "code",
   "execution_count": 20,
   "metadata": {},
   "outputs": [],
   "source": [
    "train_label = traindata.iloc[0:1501, 0:1]\n",
    "train_image = traindata.iloc[0:1501, 1:]\n",
    "train_image_trainimage, train_image_testimage, train_label_trainlabel, train_label_testlabel = train_test_split(train_image, train_label, random_state=0)"
   ]
  },
  {
   "cell_type": "code",
   "execution_count": 21,
   "metadata": {},
   "outputs": [
    {
     "data": {
      "text/plain": [
       "array([6, 3, 1, 0, 7, 8, 5, 8, 0, 6, 0, 9, 1, 9, 8, 8, 7, 0, 4, 9, 1, 4, 8,\n",
       "       9, 5, 1, 3, 9, 1, 8, 2, 6, 8, 9, 6, 1, 2, 5, 8, 6, 0, 8, 8, 5, 8, 1,\n",
       "       6, 1, 5, 9, 2, 5, 3, 7, 2, 0, 6, 8, 1, 3, 7, 4, 4, 7, 8, 7, 2, 5, 5,\n",
       "       9, 7, 4, 0, 0, 0, 9, 2, 9, 1, 9, 1, 5, 9, 2, 8, 3, 1, 3, 2, 1, 6, 2,\n",
       "       2, 3, 3, 8, 3, 2, 9, 7, 3, 1, 4, 8, 0, 0, 5, 4, 5, 0, 8, 0, 9, 6, 1,\n",
       "       6, 6, 3, 6, 9, 1, 8, 2, 7, 1, 0, 5, 4, 0, 9, 7, 9, 6, 8, 2, 7, 6, 0,\n",
       "       5, 3, 0, 2, 1, 5, 0, 9, 2, 6, 5, 0, 4, 1, 2, 1, 2, 7, 0, 2, 1, 9, 5,\n",
       "       5, 3, 8, 7, 5, 0, 6, 9, 9, 2, 4, 5, 7, 9, 6, 3, 1, 3, 1, 1, 6, 1, 1,\n",
       "       9, 8, 0, 5, 4, 4, 8, 2, 2, 7, 0, 6, 1, 5, 7, 2, 0, 6, 2, 1, 2, 2, 0,\n",
       "       7, 0, 3, 8, 3, 0, 6, 2, 9, 6, 2, 7, 0, 5, 9, 2, 4, 0, 0, 3, 6, 7, 9,\n",
       "       2, 5, 7, 7, 5, 5, 2, 9, 9, 4, 5, 6, 7, 1, 2, 5, 0, 1, 5, 6, 4, 2, 1,\n",
       "       8, 5, 3, 1, 8, 3, 5, 6, 4, 6, 4, 2, 3, 7, 1, 2, 9, 1, 1, 7, 6, 8, 1,\n",
       "       4, 4, 9, 6, 4, 9, 6, 0, 0, 5, 6, 0, 3, 1, 6, 9, 7, 4, 2, 8, 6, 0, 6,\n",
       "       3, 7, 7, 8, 1, 8, 2, 4, 1, 9, 2, 9, 2, 5, 1, 6, 7, 3, 1, 9, 2, 3, 4,\n",
       "       3, 4, 2, 1, 9, 7, 6, 8, 5, 9, 2, 7, 6, 2, 7, 0, 6, 9, 2, 1, 3, 4, 3,\n",
       "       0, 6, 7, 5, 1, 7, 2, 5, 6, 5, 6, 2, 0, 9, 6, 2, 8, 3, 9, 4, 2, 4, 0,\n",
       "       9, 7, 4, 3, 1, 9, 7, 2])"
      ]
     },
     "execution_count": 21,
     "metadata": {},
     "output_type": "execute_result"
    }
   ],
   "source": [
    "clf = svm.SVC(kernel = 'linear')\n",
    "clf.fit(train_image_trainimage, train_label_trainlabel.values.ravel())\n",
    "clf.predict(train_image_testimage)"
   ]
  },
  {
   "cell_type": "code",
   "execution_count": 22,
   "metadata": {},
   "outputs": [
    {
     "data": {
      "text/plain": [
       "0.86436170212765961"
      ]
     },
     "execution_count": 22,
     "metadata": {},
     "output_type": "execute_result"
    }
   ],
   "source": [
    "clf.score(train_image_testimage, train_label_testlabel)"
   ]
  },
  {
   "cell_type": "code",
   "execution_count": 23,
   "metadata": {},
   "outputs": [],
   "source": [
    "train_label = traindata.iloc[0:2501, 0:1]\n",
    "train_image = traindata.iloc[0:2501, 1:]\n",
    "train_image_trainimage, train_image_testimage, train_label_trainlabel, train_label_testlabel = train_test_split(train_image, train_label, random_state=0)"
   ]
  },
  {
   "cell_type": "code",
   "execution_count": 24,
   "metadata": {},
   "outputs": [
    {
     "data": {
      "text/plain": [
       "array([9, 4, 9, 0, 8, 5, 7, 9, 3, 4, 2, 5, 9, 1, 8, 4, 1, 4, 2, 6, 5, 0, 5,\n",
       "       5, 4, 9, 7, 5, 0, 3, 6, 1, 4, 1, 0, 9, 0, 2, 1, 6, 3, 6, 5, 9, 5, 5,\n",
       "       7, 0, 8, 0, 6, 0, 4, 7, 8, 3, 5, 5, 9, 2, 7, 6, 8, 5, 6, 8, 2, 2, 9,\n",
       "       1, 4, 3, 2, 1, 7, 9, 3, 3, 4, 3, 2, 4, 9, 0, 4, 2, 5, 2, 7, 1, 4, 5,\n",
       "       6, 9, 1, 2, 6, 2, 1, 8, 2, 1, 0, 4, 7, 7, 5, 1, 1, 7, 8, 5, 2, 2, 3,\n",
       "       6, 7, 1, 8, 1, 5, 7, 9, 3, 6, 6, 2, 0, 7, 5, 8, 7, 7, 9, 0, 6, 3, 2,\n",
       "       8, 0, 2, 7, 9, 9, 5, 4, 5, 8, 3, 5, 2, 8, 5, 1, 3, 1, 3, 9, 3, 1, 3,\n",
       "       9, 7, 7, 2, 6, 7, 7, 4, 0, 2, 4, 4, 6, 0, 3, 7, 3, 0, 8, 4, 6, 9, 3,\n",
       "       3, 1, 8, 1, 2, 1, 3, 3, 2, 2, 3, 8, 6, 8, 5, 5, 6, 3, 0, 9, 0, 4, 9,\n",
       "       1, 8, 5, 2, 9, 2, 3, 8, 9, 0, 1, 0, 5, 3, 6, 8, 2, 0, 1, 4, 1, 7, 4,\n",
       "       5, 8, 6, 1, 6, 4, 0, 3, 7, 7, 6, 7, 7, 5, 7, 2, 0, 5, 2, 8, 1, 3, 9,\n",
       "       1, 6, 0, 0, 0, 9, 7, 8, 8, 3, 5, 2, 5, 4, 0, 1, 6, 1, 0, 0, 3, 7, 6,\n",
       "       1, 4, 2, 5, 5, 5, 9, 1, 0, 0, 1, 3, 8, 4, 0, 3, 0, 9, 1, 6, 8, 0, 6,\n",
       "       1, 6, 4, 8, 3, 7, 1, 0, 4, 0, 5, 3, 4, 1, 2, 8, 8, 3, 8, 2, 3, 9, 0,\n",
       "       6, 2, 9, 2, 2, 0, 2, 5, 0, 5, 5, 2, 4, 6, 8, 2, 5, 6, 9, 1, 1, 9, 2,\n",
       "       4, 5, 3, 4, 9, 0, 3, 9, 4, 6, 3, 2, 7, 4, 1, 6, 0, 3, 6, 3, 3, 2, 2,\n",
       "       7, 5, 2, 9, 5, 3, 6, 4, 4, 9, 5, 7, 1, 6, 3, 8, 4, 9, 3, 0, 7, 6, 5,\n",
       "       3, 0, 3, 6, 6, 9, 1, 3, 2, 5, 2, 2, 3, 1, 5, 5, 2, 4, 8, 9, 0, 9, 5,\n",
       "       4, 6, 8, 0, 8, 1, 9, 9, 9, 4, 3, 0, 5, 3, 5, 7, 1, 2, 2, 1, 2, 8, 6,\n",
       "       3, 1, 7, 7, 9, 5, 1, 0, 4, 6, 0, 5, 1, 0, 0, 1, 0, 0, 9, 1, 4, 3, 5,\n",
       "       0, 1, 2, 1, 7, 8, 7, 0, 7, 7, 9, 8, 9, 7, 6, 2, 5, 7, 5, 2, 9, 8, 8,\n",
       "       9, 8, 1, 4, 6, 4, 7, 1, 0, 4, 8, 7, 2, 8, 6, 3, 8, 0, 0, 3, 1, 2, 1,\n",
       "       0, 0, 4, 1, 7, 6, 7, 7, 7, 1, 5, 4, 1, 4, 1, 0, 9, 8, 3, 0, 1, 3, 7,\n",
       "       9, 8, 9, 4, 9, 1, 7, 0, 9, 8, 5, 0, 9, 2, 6, 0, 0, 4, 6, 4, 5, 1, 9,\n",
       "       7, 2, 0, 3, 9, 6, 0, 1, 5, 7, 5, 0, 8, 8, 2, 2, 1, 4, 4, 2, 2, 9, 4,\n",
       "       3, 1, 0, 7, 4, 8, 4, 8, 0, 4, 5, 1, 6, 7, 7, 9, 6, 1, 8, 9, 1, 9, 7,\n",
       "       3, 0, 3, 1, 9, 9, 4, 3, 5, 6, 0, 4, 4, 9, 7, 8, 1, 5, 4, 0, 3, 2, 9,\n",
       "       7, 3, 0, 5, 2])"
      ]
     },
     "execution_count": 24,
     "metadata": {},
     "output_type": "execute_result"
    }
   ],
   "source": [
    "clf = svm.SVC(kernel = 'linear')\n",
    "clf.fit(train_image_trainimage, train_label_trainlabel.values.ravel())\n",
    "clf.predict(train_image_testimage)"
   ]
  },
  {
   "cell_type": "code",
   "execution_count": 25,
   "metadata": {},
   "outputs": [
    {
     "data": {
      "text/plain": [
       "0.88498402555910538"
      ]
     },
     "execution_count": 25,
     "metadata": {},
     "output_type": "execute_result"
    }
   ],
   "source": [
    "clf.score(train_image_testimage, train_label_testlabel)"
   ]
  },
  {
   "cell_type": "code",
   "execution_count": 26,
   "metadata": {},
   "outputs": [],
   "source": [
    "train_label = traindata.iloc[0:15001, 0:1]\n",
    "train_image = traindata.iloc[0:15001, 1:]\n",
    "train_image_trainimage, train_image_testimage, train_label_trainlabel, train_label_testlabel = train_test_split(train_image, train_label, random_state=0)"
   ]
  },
  {
   "cell_type": "code",
   "execution_count": 27,
   "metadata": {},
   "outputs": [
    {
     "data": {
      "text/plain": [
       "array([2, 6, 7, ..., 0, 4, 4])"
      ]
     },
     "execution_count": 27,
     "metadata": {},
     "output_type": "execute_result"
    }
   ],
   "source": [
    "clf = svm.SVC(kernel = 'linear')\n",
    "clf.fit(train_image_trainimage, train_label_trainlabel.values.ravel())\n",
    "clf.predict(train_image_testimage)"
   ]
  },
  {
   "cell_type": "code",
   "execution_count": 28,
   "metadata": {},
   "outputs": [
    {
     "data": {
      "text/plain": [
       "0.90909090909090906"
      ]
     },
     "execution_count": 28,
     "metadata": {},
     "output_type": "execute_result"
    }
   ],
   "source": [
    "clf.score(train_image_testimage, train_label_testlabel)"
   ]
  },
  {
   "cell_type": "code",
   "execution_count": 29,
   "metadata": {},
   "outputs": [],
   "source": [
    "train_label = traindata.iloc[0:3001, 0:1]\n",
    "train_image = traindata.iloc[0:3001, 1:]\n",
    "train_image_trainimage, train_image_testimage, train_label_trainlabel, train_label_testlabel = train_test_split(train_image, train_label, random_state=0)"
   ]
  },
  {
   "cell_type": "code",
   "execution_count": 30,
   "metadata": {},
   "outputs": [
    {
     "data": {
      "text/plain": [
       "array([3, 8, 7, 1, 8, 5, 7, 8, 6, 1, 1, 2, 0, 2, 1, 6, 9, 4, 8, 7, 7, 6, 0,\n",
       "       7, 2, 2, 9, 7, 4, 2, 6, 4, 4, 1, 5, 7, 8, 1, 9, 6, 1, 2, 7, 2, 5, 7,\n",
       "       5, 4, 1, 2, 8, 2, 0, 3, 3, 5, 5, 0, 8, 2, 6, 9, 6, 5, 5, 2, 5, 4, 8,\n",
       "       1, 4, 2, 5, 7, 3, 6, 9, 4, 9, 1, 4, 8, 2, 7, 6, 7, 4, 5, 6, 2, 7, 0,\n",
       "       5, 7, 0, 1, 6, 2, 5, 1, 6, 5, 2, 9, 2, 1, 2, 0, 2, 3, 0, 9, 9, 0, 3,\n",
       "       4, 9, 9, 0, 7, 7, 7, 0, 7, 4, 8, 2, 7, 2, 9, 4, 0, 0, 4, 1, 1, 1, 5,\n",
       "       4, 9, 0, 2, 8, 1, 9, 4, 1, 0, 7, 7, 6, 5, 4, 0, 6, 0, 0, 2, 1, 3, 6,\n",
       "       2, 9, 0, 1, 5, 0, 0, 5, 3, 6, 5, 9, 2, 6, 6, 8, 5, 8, 6, 4, 0, 3, 1,\n",
       "       3, 0, 7, 2, 2, 6, 1, 2, 7, 8, 1, 1, 1, 6, 0, 6, 8, 3, 3, 5, 5, 4, 7,\n",
       "       1, 6, 3, 2, 6, 8, 7, 1, 0, 5, 4, 9, 9, 1, 2, 1, 1, 2, 8, 3, 2, 4, 2,\n",
       "       4, 2, 3, 7, 9, 3, 1, 0, 1, 4, 8, 9, 7, 5, 8, 5, 9, 6, 7, 7, 4, 4, 0,\n",
       "       4, 4, 5, 6, 8, 6, 0, 3, 0, 3, 9, 1, 8, 6, 1, 4, 2, 6, 3, 3, 5, 5, 2,\n",
       "       5, 9, 1, 3, 6, 2, 6, 2, 4, 7, 5, 2, 6, 8, 4, 9, 4, 6, 1, 7, 4, 1, 0,\n",
       "       4, 5, 0, 1, 1, 0, 6, 2, 4, 8, 3, 3, 5, 2, 4, 6, 7, 1, 5, 3, 2, 9, 5,\n",
       "       8, 6, 0, 0, 1, 8, 6, 3, 2, 8, 9, 1, 7, 4, 6, 0, 7, 0, 8, 0, 8, 6, 4,\n",
       "       1, 1, 2, 4, 9, 2, 5, 4, 8, 6, 0, 6, 7, 9, 3, 6, 1, 9, 8, 8, 4, 8, 5,\n",
       "       5, 6, 0, 8, 9, 4, 6, 3, 9, 2, 5, 5, 4, 5, 4, 4, 0, 8, 3, 0, 9, 1, 5,\n",
       "       8, 3, 4, 7, 5, 4, 4, 4, 1, 5, 1, 3, 1, 9, 6, 9, 5, 9, 0, 8, 8, 9, 3,\n",
       "       5, 7, 1, 2, 3, 9, 2, 5, 6, 0, 4, 8, 2, 0, 2, 3, 4, 4, 7, 8, 4, 2, 6,\n",
       "       1, 9, 0, 3, 7, 6, 8, 9, 0, 1, 6, 8, 0, 6, 1, 0, 5, 5, 5, 7, 2, 3, 4,\n",
       "       5, 3, 5, 7, 5, 8, 6, 9, 0, 1, 5, 6, 2, 4, 9, 6, 1, 6, 6, 2, 6, 3, 4,\n",
       "       1, 4, 6, 1, 8, 4, 8, 3, 2, 5, 8, 8, 4, 6, 6, 0, 0, 9, 9, 6, 6, 3, 3,\n",
       "       2, 0, 8, 7, 1, 1, 2, 0, 9, 0, 0, 2, 8, 2, 2, 3, 5, 7, 6, 0, 9, 5, 2,\n",
       "       3, 1, 0, 0, 4, 4, 0, 0, 3, 5, 0, 0, 6, 8, 9, 1, 6, 3, 7, 1, 9, 2, 4,\n",
       "       3, 5, 9, 3, 5, 1, 7, 6, 5, 0, 0, 0, 7, 0, 9, 2, 2, 6, 4, 3, 1, 8, 9,\n",
       "       6, 0, 3, 9, 9, 7, 9, 1, 1, 6, 1, 1, 8, 3, 9, 1, 6, 7, 1, 7, 2, 7, 7,\n",
       "       1, 2, 6, 9, 2, 2, 2, 0, 0, 4, 8, 0, 0, 2, 8, 6, 0, 8, 9, 1, 4, 6, 1,\n",
       "       4, 5, 8, 6, 4, 4, 5, 5, 9, 5, 3, 8, 6, 4, 3, 1, 3, 9, 8, 1, 7, 6, 6,\n",
       "       4, 1, 7, 7, 7, 3, 3, 4, 5, 6, 7, 8, 1, 5, 2, 4, 6, 2, 9, 0, 7, 1, 8,\n",
       "       2, 6, 4, 8, 1, 9, 2, 9, 4, 8, 3, 2, 1, 8, 8, 8, 8, 2, 4, 1, 4, 3, 5,\n",
       "       6, 3, 6, 5, 3, 4, 9, 4, 7, 2, 0, 3, 7, 1, 5, 2, 8, 4, 5, 1, 1, 5, 2,\n",
       "       5, 5, 6, 4, 6, 3, 1, 6, 4, 1, 8, 8, 0, 5, 9, 3, 3, 3, 8, 9, 8, 4, 8,\n",
       "       1, 4, 7, 5, 7, 1, 3, 9, 7, 4, 5, 5, 4, 5, 2])"
      ]
     },
     "execution_count": 30,
     "metadata": {},
     "output_type": "execute_result"
    }
   ],
   "source": [
    "clf = svm.SVC(kernel = 'linear')\n",
    "clf.fit(train_image_trainimage, train_label_trainlabel.values.ravel())\n",
    "clf.predict(train_image_testimage)"
   ]
  },
  {
   "cell_type": "code",
   "execution_count": 31,
   "metadata": {},
   "outputs": [
    {
     "data": {
      "text/plain": [
       "0.92276964047936083"
      ]
     },
     "execution_count": 31,
     "metadata": {},
     "output_type": "execute_result"
    }
   ],
   "source": [
    "clf.score(train_image_testimage, train_label_testlabel)"
   ]
  },
  {
   "cell_type": "code",
   "execution_count": 32,
   "metadata": {},
   "outputs": [
    {
     "data": {
      "text/plain": [
       "array([2, 0, 9, ..., 3, 9, 2])"
      ]
     },
     "execution_count": 32,
     "metadata": {},
     "output_type": "execute_result"
    }
   ],
   "source": [
    "testdata = pd.read_csv('/Users/chungpinhsu/Downloads/test.csv')\n",
    "clf.predict(testdata)"
   ]
  },
  {
   "cell_type": "code",
   "execution_count": 33,
   "metadata": {},
   "outputs": [],
   "source": [
    "results = clf.predict(testdata)\n",
    "df = pd.DataFrame(results)\n",
    "df.index.name='ImageId'\n",
    "df.index+=1\n",
    "df.columns=['Label']\n",
    "df.to_csv('results.csv', header=True)"
   ]
  },
  {
   "cell_type": "code",
   "execution_count": null,
   "metadata": {},
   "outputs": [],
   "source": []
  }
 ],
 "metadata": {
  "kernelspec": {
   "display_name": "Python 3",
   "language": "python",
   "name": "python3"
  },
  "language_info": {
   "codemirror_mode": {
    "name": "ipython",
    "version": 3
   },
   "file_extension": ".py",
   "mimetype": "text/x-python",
   "name": "python",
   "nbconvert_exporter": "python",
   "pygments_lexer": "ipython3",
   "version": "3.6.3"
  }
 },
 "nbformat": 4,
 "nbformat_minor": 2
}
