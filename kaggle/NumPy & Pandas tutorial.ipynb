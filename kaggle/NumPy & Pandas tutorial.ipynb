{
 "cells": [
  {
   "cell_type": "code",
   "execution_count": 1,
   "metadata": {},
   "outputs": [],
   "source": [
    "#NumPy tutorial\n",
    "import numpy as np"
   ]
  },
  {
   "cell_type": "code",
   "execution_count": 2,
   "metadata": {},
   "outputs": [
    {
     "ename": "TypeError",
     "evalue": "'builtin_function_or_method' object is not subscriptable",
     "output_type": "error",
     "traceback": [
      "\u001b[0;31m---------------------------------------------------------------------------\u001b[0m",
      "\u001b[0;31mTypeError\u001b[0m                                 Traceback (most recent call last)",
      "\u001b[0;32m<ipython-input-2-3f0722e729bd>\u001b[0m in \u001b[0;36m<module>\u001b[0;34m()\u001b[0m\n\u001b[1;32m      1\u001b[0m \u001b[0;31m#numpy以C語言寫成，運用矩陣計算\u001b[0m\u001b[0;34m\u001b[0m\u001b[0;34m\u001b[0m\u001b[0m\n\u001b[0;32m----> 2\u001b[0;31m \u001b[0marray\u001b[0m \u001b[0;34m=\u001b[0m \u001b[0mnp\u001b[0m\u001b[0;34m.\u001b[0m\u001b[0marray\u001b[0m\u001b[0;34m[\u001b[0m\u001b[0;34m[\u001b[0m\u001b[0;36m1\u001b[0m\u001b[0;34m,\u001b[0m \u001b[0;36m2\u001b[0m\u001b[0;34m,\u001b[0m \u001b[0;36m3\u001b[0m\u001b[0;34m]\u001b[0m\u001b[0;34m,\u001b[0m \u001b[0;34m[\u001b[0m\u001b[0;36m4\u001b[0m\u001b[0;34m,\u001b[0m \u001b[0;36m5\u001b[0m\u001b[0;34m,\u001b[0m \u001b[0;36m6\u001b[0m\u001b[0;34m]\u001b[0m\u001b[0;34m]\u001b[0m\u001b[0;34m\u001b[0m\u001b[0m\n\u001b[0m\u001b[1;32m      3\u001b[0m \u001b[0mprint\u001b[0m\u001b[0;34m(\u001b[0m\u001b[0marray\u001b[0m\u001b[0;34m)\u001b[0m\u001b[0;34m\u001b[0m\u001b[0m\n",
      "\u001b[0;31mTypeError\u001b[0m: 'builtin_function_or_method' object is not subscriptable"
     ]
    }
   ],
   "source": [
    "#numpy以C語言寫成，運用矩陣計算\n",
    "array = np.array[[1, 2, 3], [4, 5, 6]]\n",
    "print(array)"
   ]
  },
  {
   "cell_type": "code",
   "execution_count": 4,
   "metadata": {},
   "outputs": [
    {
     "name": "stdout",
     "output_type": "stream",
     "text": [
      "[[1 2 3]\n",
      " [4 5 6]]\n"
     ]
    }
   ],
   "source": [
    "#numpy以C語言寫成，運用矩陣計算\n",
    "array = np.array([[1, 2, 3], [4, 5, 6]])\n",
    "print(array)"
   ]
  },
  {
   "cell_type": "code",
   "execution_count": 5,
   "metadata": {},
   "outputs": [
    {
     "name": "stdout",
     "output_type": "stream",
     "text": [
      "Number of dim 2\n",
      "Shape (2, 3)\n",
      "Size 6\n"
     ]
    }
   ],
   "source": [
    "#get 數據維度, 列欄數, 數據大小等資訊\n",
    "print('Number of dim', array.ndim)\n",
    "print('Shape', array.shape)\n",
    "print('Size', array.size)"
   ]
  },
  {
   "cell_type": "code",
   "execution_count": 192,
   "metadata": {},
   "outputs": [
    {
     "name": "stdout",
     "output_type": "stream",
     "text": [
      "1\n",
      "2\n"
     ]
    }
   ],
   "source": [
    "#Test\n",
    "test1 = np.array([1, 2, 3])\n",
    "test2 = np.array([[1, 2, 3]]) #雙[] -> 數據維度變成2\n",
    "print(test1.ndim)\n",
    "print(test2.ndim)"
   ]
  },
  {
   "cell_type": "code",
   "execution_count": 7,
   "metadata": {},
   "outputs": [
    {
     "name": "stdout",
     "output_type": "stream",
     "text": [
      "int64\n",
      "float64\n"
     ]
    }
   ],
   "source": [
    "#定義array的type\n",
    "array2 = np.array([1, 2, 3], dtype = int)\n",
    "print(array2.dtype)\n",
    "array2 = np.array([1, 2, 3], dtype = float)\n",
    "print(array2.dtype)"
   ]
  },
  {
   "cell_type": "code",
   "execution_count": 10,
   "metadata": {},
   "outputs": [
    {
     "name": "stdout",
     "output_type": "stream",
     "text": [
      "[[0 0 0 0]\n",
      " [0 0 0 0]\n",
      " [0 0 0 0]] int64\n",
      "[[ 1.  1.  1.  1.]\n",
      " [ 1.  1.  1.  1.]\n",
      " [ 1.  1.  1.  1.]]\n",
      "[[ 1.  1.  1.  1.]\n",
      " [ 1.  1.  1.  1.]\n",
      " [ 1.  1.  1.  1.]]\n"
     ]
    }
   ],
   "source": [
    "#創建array\n",
    "#生成一個全部為0 or 1 or empty的矩陣\n",
    "#以()來表示所要生成幾列幾欄的矩陣\n",
    "#也可以定義其dtype\n",
    "Zero_array = np.zeros((3, 4), dtype = int)\n",
    "print(Zero_array, Zero_array.dtype)\n",
    "One_array = np.ones((3, 4))\n",
    "print(One_array)\n",
    "#empty是一個接近為零的矩陣，並不等於空\n",
    "Empty_array = np.empty((3, 4))\n",
    "print(Empty_array)"
   ]
  },
  {
   "cell_type": "code",
   "execution_count": 193,
   "metadata": {},
   "outputs": [
    {
     "name": "stdout",
     "output_type": "stream",
     "text": [
      "[[ 1.  1.  1.  1.]\n",
      " [ 1.  1.  1.  1.]\n",
      " [ 1.  1.  1.  1.]]\n"
     ]
    }
   ],
   "source": [
    "#test\n",
    "Empty_array2 = np.empty([3, 4]) #np.empty(()) & np.empty([]) 都有人用，經測試結果可以\n",
    "print(Empty_array)"
   ]
  },
  {
   "cell_type": "code",
   "execution_count": 14,
   "metadata": {},
   "outputs": [
    {
     "name": "stdout",
     "output_type": "stream",
     "text": [
      "[10 11 12 13 14 15 16 17 18 19]\n",
      "[10 12 14 16 18]\n"
     ]
    }
   ],
   "source": [
    "#生成有序的矩陣\n",
    "Arange_array = np.arange(10, 20)\n",
    "print(Arange_array)\n",
    "Arange_array2 = np.arange(10, 20, 2)\n",
    "print(Arange_array2)"
   ]
  },
  {
   "cell_type": "code",
   "execution_count": 16,
   "metadata": {},
   "outputs": [
    {
     "name": "stdout",
     "output_type": "stream",
     "text": [
      "[[ 0  1  2  3]\n",
      " [ 4  5  6  7]\n",
      " [ 8  9 10 11]]\n",
      "[[10 11 12 13 14]\n",
      " [15 16 17 18 19]]\n"
     ]
    }
   ],
   "source": [
    "#重新定義矩陣的列欄數\n",
    "#列欄數一樣用()定義\n",
    "Arange_array3 = np.arange(12).reshape((3, 4))\n",
    "print(Arange_array3)\n",
    "Arange_array4 = np.arange(10, 20).reshape((2, 5))\n",
    "print(Arange_array4)"
   ]
  },
  {
   "cell_type": "code",
   "execution_count": 178,
   "metadata": {},
   "outputs": [
    {
     "name": "stdout",
     "output_type": "stream",
     "text": [
      "[ 10.          10.20408163  10.40816327  10.6122449   10.81632653\n",
      "  11.02040816  11.2244898   11.42857143  11.63265306  11.83673469\n",
      "  12.04081633  12.24489796  12.44897959  12.65306122  12.85714286\n",
      "  13.06122449  13.26530612  13.46938776  13.67346939  13.87755102\n",
      "  14.08163265  14.28571429  14.48979592  14.69387755  14.89795918\n",
      "  15.10204082  15.30612245  15.51020408  15.71428571  15.91836735\n",
      "  16.12244898  16.32653061  16.53061224  16.73469388  16.93877551\n",
      "  17.14285714  17.34693878  17.55102041  17.75510204  17.95918367\n",
      "  18.16326531  18.36734694  18.57142857  18.7755102   18.97959184\n",
      "  19.18367347  19.3877551   19.59183673  19.79591837  20.        ]\n",
      "Dim of Line_array : 1\n",
      "[ 10.          10.52631579  11.05263158  11.57894737  12.10526316\n",
      "  12.63157895  13.15789474  13.68421053  14.21052632  14.73684211\n",
      "  15.26315789  15.78947368  16.31578947  16.84210526  17.36842105\n",
      "  17.89473684  18.42105263  18.94736842  19.47368421  20.        ]\n",
      "[[ 10.          10.52631579  11.05263158  11.57894737  12.10526316]\n",
      " [ 12.63157895  13.15789474  13.68421053  14.21052632  14.73684211]\n",
      " [ 15.26315789  15.78947368  16.31578947  16.84210526  17.36842105]\n",
      " [ 17.89473684  18.42105263  18.94736842  19.47368421  20.        ]]\n",
      "Dim of Line_array3 : 2\n"
     ]
    }
   ],
   "source": [
    "#生成一段數列\n",
    "Line_array = np.linspace(10, 20)\n",
    "#把一段數列分成x段\n",
    "Line_array2 = np.linspace(10, 20, 20)\n",
    "#也可以把數列reshape\n",
    "Line_array3 = np.linspace(10, 20, 20).reshape((4, 5))\n",
    "print(Line_array)\n",
    "print('Dim of Line_array :', Line_array.ndim)\n",
    "print(Line_array2)\n",
    "print(Line_array3)\n",
    "print('Dim of Line_array3 :', Line_array3.ndim)"
   ]
  },
  {
   "cell_type": "code",
   "execution_count": 179,
   "metadata": {},
   "outputs": [
    {
     "name": "stdout",
     "output_type": "stream",
     "text": [
      "[0 1 2 3]\n",
      "[ True  True  True False]\n",
      "[[1 2]\n",
      " [3 4]]\n",
      "[[0 1]\n",
      " [2 3]]\n",
      "[[ 0  2]\n",
      " [ 6 12]]\n",
      "[[ 4  7]\n",
      " [ 8 15]]\n",
      "[[ 4  7]\n",
      " [ 8 15]]\n"
     ]
    }
   ],
   "source": [
    "a = np.arange(4)\n",
    "print(a)\n",
    "print(a<3)\n",
    "#numpy矩陣計算分兩種，一種是逐個計算，一個是矩陣計算dot(dot有兩種表示法)\n",
    "b = np.array([[1, 2], [3, 4]])\n",
    "c = np.arange(4).reshape((2, 2))\n",
    "print(b)\n",
    "print(c)\n",
    "print(b*c)\n",
    "print(np.dot(b, c))\n",
    "print(b.dot(c))"
   ]
  },
  {
   "cell_type": "code",
   "execution_count": 19,
   "metadata": {},
   "outputs": [
    {
     "name": "stdout",
     "output_type": "stream",
     "text": [
      "[[ 0.98825154  0.63969033  0.32517136  0.4492534 ]\n",
      " [ 0.61082961  0.51861172  0.31361913  0.70114802]]\n",
      "4.54657510439\n",
      "0.313619126253\n",
      "0.988251538372\n"
     ]
    },
    {
     "ename": "TypeError",
     "evalue": "'axis' is an invalid keyword argument for this function",
     "output_type": "error",
     "traceback": [
      "\u001b[0;31m---------------------------------------------------------------------------\u001b[0m",
      "\u001b[0;31mTypeError\u001b[0m                                 Traceback (most recent call last)",
      "\u001b[0;32m<ipython-input-19-53fc68c19407>\u001b[0m in \u001b[0;36m<module>\u001b[0;34m()\u001b[0m\n\u001b[1;32m      6\u001b[0m \u001b[0mprint\u001b[0m\u001b[0;34m(\u001b[0m\u001b[0md\u001b[0m\u001b[0;34m.\u001b[0m\u001b[0mmax\u001b[0m\u001b[0;34m(\u001b[0m\u001b[0;34m)\u001b[0m\u001b[0;34m)\u001b[0m \u001b[0;31m#求最大值\u001b[0m\u001b[0;34m\u001b[0m\u001b[0m\n\u001b[1;32m      7\u001b[0m \u001b[0;31m#列的方向 axis = 1, 欄的方向 axis = 0\u001b[0m\u001b[0;34m\u001b[0m\u001b[0;34m\u001b[0m\u001b[0m\n\u001b[0;32m----> 8\u001b[0;31m \u001b[0mprint\u001b[0m\u001b[0;34m(\u001b[0m\u001b[0md\u001b[0m\u001b[0;34m.\u001b[0m\u001b[0msum\u001b[0m\u001b[0;34m(\u001b[0m\u001b[0;34m)\u001b[0m\u001b[0;34m,\u001b[0m \u001b[0maxis\u001b[0m \u001b[0;34m=\u001b[0m \u001b[0;36m1\u001b[0m\u001b[0;34m)\u001b[0m \u001b[0;31m#求每列加總\u001b[0m\u001b[0;34m\u001b[0m\u001b[0m\n\u001b[0m",
      "\u001b[0;31mTypeError\u001b[0m: 'axis' is an invalid keyword argument for this function"
     ]
    }
   ],
   "source": [
    "#隨機生成一個矩陣\n",
    "d = np.random.random((2, 4))\n",
    "print(d)\n",
    "print(d.sum()) #求加總\n",
    "print(d.min()) #求最小值\n",
    "print(d.max()) #求最大值\n",
    "#列的方向 axis = 1, 欄的方向 axis = 0\n",
    "print(d.sum(), axis = 1) #求每列加總"
   ]
  },
  {
   "cell_type": "code",
   "execution_count": 20,
   "metadata": {},
   "outputs": [
    {
     "name": "stdout",
     "output_type": "stream",
     "text": [
      "[[ 0.69322602  0.70248387  0.74829774  0.10871559]\n",
      " [ 0.29422044  0.77616098  0.28766909  0.77418588]]\n",
      "4.38495961687\n",
      "0.108715588954\n",
      "0.77616098245\n",
      "[ 2.25272322  2.13223639]\n"
     ]
    }
   ],
   "source": [
    "#隨機生成一個矩陣\n",
    "d = np.random.random((2, 4))\n",
    "print(d)\n",
    "print(d.sum()) #求加總\n",
    "print(d.min()) #求最小值\n",
    "print(d.max()) #求最大值\n",
    "#列的方向 axis = 1, 欄的方向 axis = 0\n",
    "print(d.sum(axis = 1)) #求每列加總"
   ]
  },
  {
   "cell_type": "code",
   "execution_count": 180,
   "metadata": {},
   "outputs": [
    {
     "name": "stdout",
     "output_type": "stream",
     "text": [
      "[[ 2  3  4  5]\n",
      " [ 6  7  8  9]\n",
      " [10 11 12 13]]\n",
      "0\n",
      "11\n",
      "[ 2  5  9 14 20 27 35 44 54 65 77 90]\n"
     ]
    },
    {
     "ename": "AttributeError",
     "evalue": "'numpy.ndarray' object has no attribute 'diff'",
     "output_type": "error",
     "traceback": [
      "\u001b[0;31m---------------------------------------------------------------------------\u001b[0m",
      "\u001b[0;31mAttributeError\u001b[0m                            Traceback (most recent call last)",
      "\u001b[0;32m<ipython-input-180-625f0993cda7>\u001b[0m in \u001b[0;36m<module>\u001b[0;34m()\u001b[0m\n\u001b[1;32m      4\u001b[0m \u001b[0mprint\u001b[0m\u001b[0;34m(\u001b[0m\u001b[0me\u001b[0m\u001b[0;34m.\u001b[0m\u001b[0margmax\u001b[0m\u001b[0;34m(\u001b[0m\u001b[0;34m)\u001b[0m\u001b[0;34m)\u001b[0m\u001b[0;34m\u001b[0m\u001b[0m\n\u001b[1;32m      5\u001b[0m \u001b[0mprint\u001b[0m\u001b[0;34m(\u001b[0m\u001b[0me\u001b[0m\u001b[0;34m.\u001b[0m\u001b[0mcumsum\u001b[0m\u001b[0;34m(\u001b[0m\u001b[0;34m)\u001b[0m\u001b[0;34m)\u001b[0m \u001b[0;31m#求逐步累加的過程\u001b[0m\u001b[0;34m\u001b[0m\u001b[0m\n\u001b[0;32m----> 6\u001b[0;31m \u001b[0mprint\u001b[0m\u001b[0;34m(\u001b[0m\u001b[0me\u001b[0m\u001b[0;34m.\u001b[0m\u001b[0mdiff\u001b[0m\u001b[0;34m(\u001b[0m\u001b[0;34m)\u001b[0m\u001b[0;34m)\u001b[0m   \u001b[0;31m#求各項之間的差\u001b[0m\u001b[0;34m\u001b[0m\u001b[0m\n\u001b[0m\u001b[1;32m      7\u001b[0m \u001b[0mprint\u001b[0m\u001b[0;34m(\u001b[0m\u001b[0me\u001b[0m\u001b[0;34m.\u001b[0m\u001b[0mnonzero\u001b[0m\u001b[0;34m(\u001b[0m\u001b[0;34m)\u001b[0m\u001b[0;34m)\u001b[0m\u001b[0;31m#求非0值的索引值(第x列, 第y欄)\u001b[0m\u001b[0;34m\u001b[0m\u001b[0m\n",
      "\u001b[0;31mAttributeError\u001b[0m: 'numpy.ndarray' object has no attribute 'diff'"
     ]
    }
   ],
   "source": [
    "e = np.arange(2, 14).reshape((3, 4))\n",
    "print(e)\n",
    "print(e.argmin()) #求最小值的索引值\n",
    "print(e.argmax())\n",
    "print(e.cumsum()) #求逐步累加的過程\n",
    "print(e.diff())   #求各項之間的差\n",
    "print(e.nonzero())#求非0值的索引值(第x列, 第y欄)"
   ]
  },
  {
   "cell_type": "code",
   "execution_count": 181,
   "metadata": {},
   "outputs": [
    {
     "name": "stdout",
     "output_type": "stream",
     "text": [
      "[[ 2  3  4  5]\n",
      " [ 6  7  8  9]\n",
      " [10 11 12 13]]\n",
      "0\n",
      "11\n",
      "[ 2  5  9 14 20 27 35 44 54 65 77 90]\n",
      "[[1 1 1]\n",
      " [1 1 1]\n",
      " [1 1 1]]\n",
      "(array([0, 0, 0, 0, 1, 1, 1, 1, 2, 2, 2, 2]), array([0, 1, 2, 3, 0, 1, 2, 3, 0, 1, 2, 3]))\n"
     ]
    }
   ],
   "source": [
    "e = np.arange(2, 14).reshape((3, 4))\n",
    "print(e)\n",
    "print(e.argmin()) #求最小值的索引值\n",
    "print(e.argmax())\n",
    "print(e.cumsum()) #求逐步累加的過程\n",
    "print(np.diff(e)) #求各項之間的差 #diff()可能是較舊的版本因此需要換寫法 \n",
    "print(e.nonzero())#求非0值的索引值(第x列, 第y欄)"
   ]
  },
  {
   "cell_type": "code",
   "execution_count": 23,
   "metadata": {},
   "outputs": [
    {
     "ename": "TypeError",
     "evalue": "data type not understood",
     "output_type": "error",
     "traceback": [
      "\u001b[0;31m---------------------------------------------------------------------------\u001b[0m",
      "\u001b[0;31mTypeError\u001b[0m                                 Traceback (most recent call last)",
      "\u001b[0;32m<ipython-input-23-74a6943706f7>\u001b[0m in \u001b[0;36m<module>\u001b[0;34m()\u001b[0m\n\u001b[0;32m----> 1\u001b[0;31m \u001b[0mf\u001b[0m \u001b[0;34m=\u001b[0m \u001b[0mnp\u001b[0m\u001b[0;34m.\u001b[0m\u001b[0marray\u001b[0m\u001b[0;34m(\u001b[0m\u001b[0;36m14\u001b[0m\u001b[0;34m,\u001b[0m \u001b[0;36m2\u001b[0m\u001b[0;34m)\u001b[0m\u001b[0;34m.\u001b[0m\u001b[0mreshape\u001b[0m\u001b[0;34m(\u001b[0m\u001b[0;36m3\u001b[0m\u001b[0;34m,\u001b[0m \u001b[0;36m4\u001b[0m\u001b[0;34m)\u001b[0m\u001b[0;34m\u001b[0m\u001b[0m\n\u001b[0m\u001b[1;32m      2\u001b[0m \u001b[0mprint\u001b[0m\u001b[0;34m(\u001b[0m\u001b[0mf\u001b[0m\u001b[0;34m)\u001b[0m\u001b[0;34m\u001b[0m\u001b[0m\n\u001b[1;32m      3\u001b[0m \u001b[0mprint\u001b[0m\u001b[0;34m(\u001b[0m\u001b[0mf\u001b[0m\u001b[0;34m.\u001b[0m\u001b[0msort\u001b[0m\u001b[0;34m(\u001b[0m\u001b[0;34m)\u001b[0m\u001b[0;34m)\u001b[0m \u001b[0;31m#逐行排序\u001b[0m\u001b[0;34m\u001b[0m\u001b[0m\n",
      "\u001b[0;31mTypeError\u001b[0m: data type not understood"
     ]
    }
   ],
   "source": [
    "f = np.array(14, 2).reshape(3, 4)\n",
    "print(f)\n",
    "print(f.sort()) #逐行排序"
   ]
  },
  {
   "cell_type": "code",
   "execution_count": 26,
   "metadata": {
    "scrolled": true
   },
   "outputs": [
    {
     "ename": "ValueError",
     "evalue": "only 2 non-keyword arguments accepted",
     "output_type": "error",
     "traceback": [
      "\u001b[0;31m---------------------------------------------------------------------------\u001b[0m",
      "\u001b[0;31mValueError\u001b[0m                                Traceback (most recent call last)",
      "\u001b[0;32m<ipython-input-26-12293eb931f7>\u001b[0m in \u001b[0;36m<module>\u001b[0;34m()\u001b[0m\n\u001b[0;32m----> 1\u001b[0;31m \u001b[0mf\u001b[0m \u001b[0;34m=\u001b[0m \u001b[0mnp\u001b[0m\u001b[0;34m.\u001b[0m\u001b[0marray\u001b[0m\u001b[0;34m(\u001b[0m\u001b[0;36m14\u001b[0m\u001b[0;34m,\u001b[0m \u001b[0;36m2\u001b[0m\u001b[0;34m,\u001b[0m \u001b[0;34m-\u001b[0m\u001b[0;36m1\u001b[0m\u001b[0;34m)\u001b[0m\u001b[0;34m.\u001b[0m\u001b[0mreshape\u001b[0m\u001b[0;34m(\u001b[0m\u001b[0;36m3\u001b[0m\u001b[0;34m,\u001b[0m \u001b[0;36m4\u001b[0m\u001b[0;34m)\u001b[0m \u001b[0;31m#加上-號讓他知道往負方向跑\u001b[0m\u001b[0;34m\u001b[0m\u001b[0m\n\u001b[0m\u001b[1;32m      2\u001b[0m \u001b[0mprint\u001b[0m\u001b[0;34m(\u001b[0m\u001b[0mf\u001b[0m\u001b[0;34m)\u001b[0m\u001b[0;34m\u001b[0m\u001b[0m\n\u001b[1;32m      3\u001b[0m \u001b[0mprint\u001b[0m\u001b[0;34m(\u001b[0m\u001b[0mf\u001b[0m\u001b[0;34m.\u001b[0m\u001b[0msort\u001b[0m\u001b[0;34m(\u001b[0m\u001b[0;34m)\u001b[0m\u001b[0;34m)\u001b[0m \u001b[0;31m#逐行排序\u001b[0m\u001b[0;34m\u001b[0m\u001b[0m\n",
      "\u001b[0;31mValueError\u001b[0m: only 2 non-keyword arguments accepted"
     ]
    }
   ],
   "source": [
    "f = np.array(14, 2, -1).reshape(3, 4) #加上-號讓他知道往負方向跑\n",
    "print(f)\n",
    "print(f.sort()) #逐行排序"
   ]
  },
  {
   "cell_type": "code",
   "execution_count": 191,
   "metadata": {},
   "outputs": [
    {
     "name": "stdout",
     "output_type": "stream",
     "text": [
      "[[14 13 12 11]\n",
      " [10  9  8  7]\n",
      " [ 6  5  4  3]]\n",
      "None\n"
     ]
    }
   ],
   "source": [
    "f = np.arange(14, 2, -1).reshape((3, 4)) #加上-號讓他知道往負方向跑\n",
    "print(f)\n",
    "print(f.sort()) #逐行排序"
   ]
  },
  {
   "cell_type": "code",
   "execution_count": 190,
   "metadata": {},
   "outputs": [
    {
     "name": "stdout",
     "output_type": "stream",
     "text": [
      "[[14 13 12 11]\n",
      " [10  9  8  7]\n",
      " [ 6  5  4  3]]\n",
      "[[11 12 13 14]\n",
      " [ 7  8  9 10]\n",
      " [ 3  4  5  6]]\n"
     ]
    }
   ],
   "source": [
    "f = np.arange(14, 2, -1).reshape((3, 4)) #加上-號讓他知道往負方向跑\n",
    "print(f)\n",
    "print(np.sort(f)) #逐行排序 #sort一樣要改寫"
   ]
  },
  {
   "cell_type": "code",
   "execution_count": 194,
   "metadata": {},
   "outputs": [],
   "source": [
    "#reshpae的差異between reshape() and reshape(())? -> 簡單搜尋一下應該是都可以，視當下情況"
   ]
  },
  {
   "cell_type": "code",
   "execution_count": 32,
   "metadata": {},
   "outputs": [
    {
     "name": "stdout",
     "output_type": "stream",
     "text": [
      "[[14 13 12 11]\n",
      " [10  9  8  7]\n",
      " [ 6  5  4  3]]\n",
      "[[14 10  6]\n",
      " [13  9  5]\n",
      " [12  8  4]\n",
      " [11  7  3]]\n",
      "[[14 10  6]\n",
      " [13  9  5]\n",
      " [12  8  4]\n",
      " [11  7  3]]\n"
     ]
    }
   ],
   "source": [
    "#將矩陣反向，列欄互換，有兩種寫法\n",
    "print(f)\n",
    "print(f.transpose())\n",
    "print(f.T)"
   ]
  },
  {
   "cell_type": "code",
   "execution_count": 33,
   "metadata": {},
   "outputs": [
    {
     "name": "stdout",
     "output_type": "stream",
     "text": [
      "[[14 13 12 11]\n",
      " [10  9  8  7]\n",
      " [ 6  5  4  3]]\n",
      "[[9 9 9 9]\n",
      " [9 9 8 7]\n",
      " [6 5 4 3]]\n"
     ]
    }
   ],
   "source": [
    "#clip(a, a_min, a_max, out=None)\n",
    "print(f)\n",
    "print(np.clip(f, 3, 9)) #a_min = 3 所有小於3的值都等於3, a_max = 9 所有大於9的值都等於9"
   ]
  },
  {
   "cell_type": "code",
   "execution_count": 185,
   "metadata": {},
   "outputs": [
    {
     "name": "stdout",
     "output_type": "stream",
     "text": [
      "[ 3  4  5  6  7  8  9 10 11 12 13 14]\n",
      "6\n",
      "----------\n",
      "[[ 3  4  5  6]\n",
      " [ 7  8  9 10]\n",
      " [11 12 13 14]]\n",
      "---\n",
      "[11 12 13 14]\n",
      "13\n",
      "13\n",
      "[[ 4  5]\n",
      " [ 8  9]\n",
      " [12 13]]\n"
     ]
    }
   ],
   "source": [
    "g = np.arange(3, 15)\n",
    "print(g)\n",
    "print(g[3]) #求索引值3的值\n",
    "g = np.arange(3, 15).reshape((3, 4))\n",
    "print('-'*10)\n",
    "print(g)\n",
    "print('-'*3)\n",
    "print(g[2]) #求列索引值 = 2的值，也就是第3列的值\n",
    "print(g[2][2]) #求列索引值 = 2, 欄索引值 = 2 的值，也就是第3列第3欄的值\n",
    "print(g[2, 2]) #同上，不同寫法\n",
    "print(g[:, 1:3])"
   ]
  },
  {
   "cell_type": "code",
   "execution_count": 186,
   "metadata": {},
   "outputs": [
    {
     "name": "stdout",
     "output_type": "stream",
     "text": [
      "[[ 3  4  5  6]\n",
      " [ 7  8  9 10]\n",
      " [11 12 13 14]]\n",
      "[3 4 5 6]\n",
      "[ 7  8  9 10]\n",
      "[11 12 13 14]\n",
      "----------\n",
      "[[ 3  4  5  6]\n",
      " [ 7  8  9 10]\n",
      " [11 12 13 14]]\n",
      "[[ 3  7 11]\n",
      " [ 4  8 12]\n",
      " [ 5  9 13]\n",
      " [ 6 10 14]]\n",
      "[ 3  7 11]\n",
      "[ 4  8 12]\n",
      "[ 5  9 13]\n",
      "[ 6 10 14]\n",
      "----------\n",
      "[[ 3  4  5  6]\n",
      " [ 7  8  9 10]\n",
      " [11 12 13 14]]\n",
      "[ 3  4  5  6  7  8  9 10 11 12 13 14]\n",
      "3\n",
      "4\n",
      "5\n",
      "6\n",
      "7\n",
      "8\n",
      "9\n",
      "10\n",
      "11\n",
      "12\n",
      "13\n",
      "14\n"
     ]
    }
   ],
   "source": [
    "#印出每一列的值\n",
    "print(g)\n",
    "for rows in g:\n",
    "    print(rows)\n",
    "print('-'*10)\n",
    "#欄在numpy裡無法迭代，因此換個寫法\n",
    "print(g)\n",
    "print(g.T)\n",
    "for columns in g.T:\n",
    "    print(columns)\n",
    "print('-'*10)\n",
    "#要印出裡面每一項的數字因為也無法迭代，換個寫法\n",
    "print(g)\n",
    "print(g.flatten()) #flatten()將矩陣壓平變成數列，而跟flat()的差別在flatten()會返回被改變後的數列\n",
    "for items in g.flat:\n",
    "    print(items)"
   ]
  },
  {
   "cell_type": "code",
   "execution_count": 188,
   "metadata": {},
   "outputs": [
    {
     "name": "stdout",
     "output_type": "stream",
     "text": [
      "[1 1 1]\n",
      "[2 2 2]\n",
      "---\n",
      "[[1 1 1]\n",
      " [2 2 2]]\n",
      "[1 1 1 2 2 2]\n",
      "----------\n",
      "[1 1 1] (3,)\n",
      "[[1 1 1]] (1, 3)\n",
      "[[1]\n",
      " [1]\n",
      " [1]] (3, 1)\n",
      "----------\n",
      "[[1 2]\n",
      " [1 2]\n",
      " [1 2]]\n",
      "[[1 2 2]\n",
      " [1 2 2]\n",
      " [1 2 2]]\n",
      "[[1 2 2]\n",
      " [1 2 2]\n",
      " [1 2 2]]\n",
      "[[1]\n",
      " [1]\n",
      " [1]\n",
      " [2]\n",
      " [2]\n",
      " [2]\n",
      " [2]\n",
      " [2]\n",
      " [2]]\n"
     ]
    }
   ],
   "source": [
    "#數列合併\n",
    "h = np.array([1, 1, 1])\n",
    "i = np.array([2, 2, 2])\n",
    "print(h)\n",
    "print(i)\n",
    "print('-'*3)\n",
    "vertical_stack = np.vstack((h, i)) #上下合併\n",
    "print(vertical_stack)\n",
    "horizontal_stack = np.hstack((h, i)) #左右合併\n",
    "print(horizontal_stack)\n",
    "print('-'*10)\n",
    "#若想讓h數列從橫變成直\n",
    "print(h.T, h.T.shape) #用transpose是無效的\n",
    "#用h.reshpae(0, 1)會出錯\n",
    "#新增維度\n",
    "print(h[np.newaxis, :], h[np.newaxis, :].shape)\n",
    "print(h[:, np.newaxis], h[:, np.newaxis].shape)\n",
    "print('-'*10)\n",
    "#變成縱向，左右合併\n",
    "h = np.array([1, 1, 1])[:, np.newaxis]\n",
    "i = np.array([2, 2, 2])[:, np.newaxis]\n",
    "print(np.hstack((h, i)))\n",
    "print(np.hstack((h, i, i))) #支援多個合併\n",
    "#concatenate像是vstack, hstack的綜合，在後面指定axis即可\n",
    "print(np.concatenate((h, i, i), axis = 1))\n",
    "print(np.concatenate((h, i, i), axis = 0))"
   ]
  },
  {
   "cell_type": "code",
   "execution_count": 189,
   "metadata": {},
   "outputs": [
    {
     "name": "stdout",
     "output_type": "stream",
     "text": [
      "[[ 0  1  2  3]\n",
      " [ 4  5  6  7]\n",
      " [ 8  9 10 11]]\n",
      "---\n",
      "[array([[0, 1, 2, 3]]), array([[4, 5, 6, 7]]), array([[ 8,  9, 10, 11]])]\n",
      "---\n",
      "[array([[0],\n",
      "       [4],\n",
      "       [8]]), array([[1],\n",
      "       [5],\n",
      "       [9]]), array([[ 2],\n",
      "       [ 6],\n",
      "       [10]]), array([[ 3],\n",
      "       [ 7],\n",
      "       [11]])]\n",
      "---\n",
      "[array([[0, 1, 2, 3]]), array([[4, 5, 6, 7]]), array([[ 8,  9, 10, 11]])]\n",
      "---\n",
      "[array([[0, 1],\n",
      "       [4, 5],\n",
      "       [8, 9]]), array([[ 2,  3],\n",
      "       [ 6,  7],\n",
      "       [10, 11]])]\n",
      "----------\n",
      "[array([[0, 1, 2, 3],\n",
      "       [4, 5, 6, 7]]), array([[ 8,  9, 10, 11]])]\n",
      "[array([[0, 1],\n",
      "       [4, 5],\n",
      "       [8, 9]]), array([[ 2],\n",
      "       [ 6],\n",
      "       [10]]), array([[ 3],\n",
      "       [ 7],\n",
      "       [11]])]\n"
     ]
    }
   ],
   "source": [
    "#等量分割\n",
    "j = np.arange(12).reshape(3, 4)\n",
    "print(j)\n",
    "print('-'*3)\n",
    "print(np.split(j, 3, axis=0)) #split(array, 分成幾等分, axis) #axis=0是在縱向上做分割所以會是水平切，需要思考一下\n",
    "print('-'*3)\n",
    "print(np.split(j, 4, axis=1))\n",
    "print('-'*3)\n",
    "print(np.vsplit(j, 3)) #vstack的相反\n",
    "print('-'*3)\n",
    "print(np.hsplit(j, 2)) #hstack的相反\n",
    "print('-'*10)\n",
    "#不等量分割\n",
    "print(np.array_split(j, 2, axis=0))\n",
    "print(np.array_split(j, 3, axis=1))"
   ]
  },
  {
   "cell_type": "code",
   "execution_count": 63,
   "metadata": {},
   "outputs": [
    {
     "name": "stdout",
     "output_type": "stream",
     "text": [
      "[0 1 2 3] [0 1 2 3] [0 1 2 3]\n",
      "True True\n",
      "[66  1  2  3] [66  1  2  3] [66  1  2  3]\n",
      "True True\n",
      "[0 1 2 3] [0 1 2 3]\n",
      "False\n",
      "[66  1  2  3] [0 1 2 3]\n",
      "False\n"
     ]
    }
   ],
   "source": [
    "#一個array付值給一個變量，他們之間是相等的\n",
    "k = np.arange(4)\n",
    "k1 = k\n",
    "k2 = k1\n",
    "print(k, k1, k2)\n",
    "print(k1 is k, k2 is k)\n",
    "k[0] = 66\n",
    "print(k, k1, k2)\n",
    "print(k1 is k, k2 is k)\n",
    "#要改變k而不影響k1, k2，使用deeppcopy\n",
    "k = np.arange(4)\n",
    "k1 = k.copy()\n",
    "print(k, k1)\n",
    "print(k1 is k)\n",
    "k[0] = 66\n",
    "print(k, k1)\n",
    "print(k1 is k)"
   ]
  },
  {
   "cell_type": "code",
   "execution_count": 64,
   "metadata": {},
   "outputs": [],
   "source": [
    "#Pandas tutorial"
   ]
  },
  {
   "cell_type": "code",
   "execution_count": 66,
   "metadata": {},
   "outputs": [],
   "source": [
    "#Pandas相當於字典式NumPy\n",
    "import pandas as pd"
   ]
  },
  {
   "cell_type": "code",
   "execution_count": 68,
   "metadata": {},
   "outputs": [
    {
     "name": "stdout",
     "output_type": "stream",
     "text": [
      "0     1.0\n",
      "1     2.0\n",
      "2    55.0\n",
      "3     NaN\n",
      "4    78.0\n",
      "dtype: float64\n"
     ]
    }
   ],
   "source": [
    "l = pd.Series([1, 2, 55, np.nan, 78]) #想像成np.arange()給每個data一個索引值\n",
    "print(l)"
   ]
  },
  {
   "cell_type": "code",
   "execution_count": 73,
   "metadata": {},
   "outputs": [
    {
     "name": "stdout",
     "output_type": "stream",
     "text": [
      "DatetimeIndex(['2018-01-01', '2018-01-02', '2018-01-03', '2018-01-04',\n",
      "               '2018-01-05', '2018-01-06'],\n",
      "              dtype='datetime64[ns]', freq='D')\n"
     ]
    }
   ],
   "source": [
    "dates = pd.date_range('20180101', periods=6)\n",
    "print(dates)"
   ]
  },
  {
   "cell_type": "code",
   "execution_count": 196,
   "metadata": {},
   "outputs": [
    {
     "name": "stdout",
     "output_type": "stream",
     "text": [
      "                   a         b         c         d\n",
      "2018-01-01  0.747949 -0.613682  0.836633 -2.023560\n",
      "2018-01-02 -0.119628 -1.556901 -0.073948  0.031684\n",
      "2018-01-03 -0.414245 -2.262648 -1.656072 -0.742091\n",
      "2018-01-04 -0.000977 -0.858583  0.936576  0.336750\n",
      "2018-01-05  1.176719 -2.682502 -2.144172  0.677620\n",
      "2018-01-06  1.492953 -1.617939 -1.638110  1.088527\n",
      "----------\n",
      "     A          B    C  D\n",
      "0  1.0 2018-01-16  1.0  3\n",
      "1  1.0 2018-01-16  1.0  3\n",
      "2  1.0 2018-01-16  1.0  3\n",
      "3  1.0 2018-01-16  1.0  3\n",
      "A           float64\n",
      "B    datetime64[ns]\n",
      "C           float64\n",
      "D             int64\n",
      "dtype: object\n"
     ]
    }
   ],
   "source": [
    "df = pd.DataFrame(np.random.randn(6, 4), index = dates, columns = ['a', 'b', 'c', 'd']) #random.random & random.randn差異？\n",
    "print(df)\n",
    "print('-'*10)\n",
    "df2 = pd.DataFrame({'A':1., 'B':pd.Timestamp('20180116'), 'C':pd.Series(1, index = list(range(4)), dtype = float), 'D':np.array([3]*4, dtype = int)})\n",
    "print(df2)\n",
    "print(df2.dtypes) #要加上s"
   ]
  },
  {
   "cell_type": "code",
   "execution_count": 197,
   "metadata": {},
   "outputs": [
    {
     "name": "stdout",
     "output_type": "stream",
     "text": [
      "Int64Index([0, 1, 2, 3], dtype='int64')\n",
      "---\n",
      "Index(['A', 'B', 'C', 'D'], dtype='object')\n",
      "---\n",
      "[[1.0 Timestamp('2018-01-16 00:00:00') 1.0 3]\n",
      " [1.0 Timestamp('2018-01-16 00:00:00') 1.0 3]\n",
      " [1.0 Timestamp('2018-01-16 00:00:00') 1.0 3]\n",
      " [1.0 Timestamp('2018-01-16 00:00:00') 1.0 3]]\n",
      "---\n",
      "<bound method DataFrame.info of      A          B    C  D\n",
      "0  1.0 2018-01-16  1.0  3\n",
      "1  1.0 2018-01-16  1.0  3\n",
      "2  1.0 2018-01-16  1.0  3\n",
      "3  1.0 2018-01-16  1.0  3>\n",
      "---\n",
      "<bound method NDFrame.describe of      A          B    C  D\n",
      "0  1.0 2018-01-16  1.0  3\n",
      "1  1.0 2018-01-16  1.0  3\n",
      "2  1.0 2018-01-16  1.0  3\n",
      "3  1.0 2018-01-16  1.0  3>\n",
      "---\n",
      "                     0                    1                    2  \\\n",
      "A                    1                    1                    1   \n",
      "B  2018-01-16 00:00:00  2018-01-16 00:00:00  2018-01-16 00:00:00   \n",
      "C                    1                    1                    1   \n",
      "D                    3                    3                    3   \n",
      "\n",
      "                     3  \n",
      "A                    1  \n",
      "B  2018-01-16 00:00:00  \n",
      "C                    1  \n",
      "D                    3  \n",
      "---\n",
      "   D    C          B    A\n",
      "0  3  1.0 2018-01-16  1.0\n",
      "1  3  1.0 2018-01-16  1.0\n",
      "2  3  1.0 2018-01-16  1.0\n",
      "3  3  1.0 2018-01-16  1.0\n",
      "---\n",
      "     A          B    C  D\n",
      "0  1.0 2018-01-16  1.0  3\n",
      "1  1.0 2018-01-16  1.0  3\n",
      "2  1.0 2018-01-16  1.0  3\n",
      "3  1.0 2018-01-16  1.0  3\n"
     ]
    }
   ],
   "source": [
    "#df2資訊\n",
    "print(df2.index)\n",
    "print('-'*3)\n",
    "print(df2.columns)\n",
    "print('-'*3)\n",
    "print(df2.values)\n",
    "print('-'*3)\n",
    "print(df2.info) #info()可加可不加？ -> 都可以\n",
    "print('-'*3)\n",
    "print(df2.describe)\n",
    "print('-'*3)\n",
    "print(df2.T) #反轉df2，列欄互換\n",
    "print('-'*3)\n",
    "print(df2.sort_index(axis = 1, ascending=False)) #將欄反向排列\n",
    "print('-'*3)\n",
    "print(df2.sort_values(by='C')) #根據C欄排序"
   ]
  },
  {
   "cell_type": "code",
   "execution_count": 117,
   "metadata": {},
   "outputs": [
    {
     "name": "stdout",
     "output_type": "stream",
     "text": [
      "             A   B   C   D\n",
      "2018-01-01   0   1   2   3\n",
      "2018-01-02   4   5   6   7\n",
      "2018-01-03   8   9  10  11\n",
      "2018-01-04  12  13  14  15\n",
      "2018-01-05  16  17  18  19\n",
      "2018-01-06  20  21  22  23\n",
      "2018-01-01     0\n",
      "2018-01-02     4\n",
      "2018-01-03     8\n",
      "2018-01-04    12\n",
      "2018-01-05    16\n",
      "2018-01-06    20\n",
      "Freq: D, Name: A, dtype: int64\n",
      "2018-01-01     0\n",
      "2018-01-02     4\n",
      "2018-01-03     8\n",
      "2018-01-04    12\n",
      "2018-01-05    16\n",
      "2018-01-06    20\n",
      "Freq: D, Name: A, dtype: int64\n",
      "----------\n",
      "A     8\n",
      "B     9\n",
      "C    10\n",
      "D    11\n",
      "Name: 2018-01-03 00:00:00, dtype: int64\n",
      "             A   B\n",
      "2018-01-01   0   1\n",
      "2018-01-02   4   5\n",
      "2018-01-03   8   9\n",
      "2018-01-04  12  13\n",
      "2018-01-05  16  17\n",
      "2018-01-06  20  21\n",
      "----------\n",
      "13\n",
      "             B   C\n",
      "2018-01-04  13  14\n",
      "2018-01-05  17  18\n",
      "             B   C\n",
      "2018-01-02   5   6\n",
      "2018-01-04  13  14\n",
      "2018-01-06  21  22\n",
      "----------\n",
      "             A   B\n",
      "2018-01-01   0   1\n",
      "2018-01-02   4   5\n",
      "2018-01-03   8   9\n",
      "2018-01-04  12  13\n",
      "2018-01-05  16  17\n",
      "2018-01-06  20  21\n",
      "----------\n",
      "             A   B   C   D\n",
      "2018-01-04  12  13  14  15\n",
      "2018-01-05  16  17  18  19\n",
      "2018-01-06  20  21  22  23\n",
      "2018-01-04    13\n",
      "2018-01-05    17\n",
      "2018-01-06    21\n",
      "Freq: D, Name: B, dtype: int64\n",
      "----------\n",
      "             A   B   C   D   F\n",
      "2018-01-01   0   1   2   3 NaN\n",
      "2018-01-02   4   5   6   7 NaN\n",
      "2018-01-03   8   9  10  11 NaN\n",
      "2018-01-04  12  13  14  15 NaN\n",
      "2018-01-05  16  17  18  19 NaN\n",
      "2018-01-06  20  21  22  23 NaN\n"
     ]
    },
    {
     "name": "stderr",
     "output_type": "stream",
     "text": [
      "/Users/chungpinhsu/anaconda3/envs/ds/lib/python3.6/site-packages/ipykernel_launcher.py:17: DeprecationWarning: \n",
      ".ix is deprecated. Please use\n",
      ".loc for label based indexing or\n",
      ".iloc for positional indexing\n",
      "\n",
      "See the documentation here:\n",
      "http://pandas.pydata.org/pandas-docs/stable/indexing.html#ix-indexer-is-deprecated\n"
     ]
    }
   ],
   "source": [
    "dates = pd.date_range('20180101', periods=6)\n",
    "df = pd.DataFrame(np.arange(24).reshape(6, 4), index = dates, columns = ['A', 'B', 'C', 'D'])\n",
    "print(df)\n",
    "print(df['A']) #選取A欄\n",
    "print(df.A) #功能同上\n",
    "print('-'*10)\n",
    "#select by label(都是用標籤):loc\n",
    "print(df.loc['20180103']) \n",
    "print(df.loc[:, ['A', 'B']])\n",
    "print('-'*10)\n",
    "#select by position(用索引值):iloc\n",
    "print(df.iloc[3, 1])\n",
    "print(df.iloc[3:5, 1:3])\n",
    "print(df.iloc[[1, 3, 5], 1:3])\n",
    "print('-'*10)\n",
    "#mix select:ix\n",
    "print(df.ix[:, ['A', 'B']])\n",
    "print('-'*10)\n",
    "#select by Boolean indexing\n",
    "print(df[df.A>8])\n",
    "print(df.B[df.A>8])\n",
    "print('-'*10)\n",
    "#新增一欄\n",
    "df['F'] = np.nan\n",
    "print(df)"
   ]
  },
  {
   "cell_type": "code",
   "execution_count": 128,
   "metadata": {},
   "outputs": [
    {
     "name": "stdout",
     "output_type": "stream",
     "text": [
      "             A   B     C     D\n",
      "2018-01-01   0   1   2.0   NaN\n",
      "2018-01-02   4   5   NaN   7.0\n",
      "2018-01-03   8   9  10.0  11.0\n",
      "2018-01-04  12  13  14.0  15.0\n",
      "2018-01-05  16  17  18.0  19.0\n",
      "2018-01-06  20  21  22.0  23.0\n",
      "----------\n",
      "             A   B\n",
      "2018-01-01   0   1\n",
      "2018-01-02   4   5\n",
      "2018-01-03   8   9\n",
      "2018-01-04  12  13\n",
      "2018-01-05  16  17\n",
      "2018-01-06  20  21\n",
      "             A   B     C     D\n",
      "2018-01-01   0   1   2.0   0.0\n",
      "2018-01-02   4   5   0.0   7.0\n",
      "2018-01-03   8   9  10.0  11.0\n",
      "2018-01-04  12  13  14.0  15.0\n",
      "2018-01-05  16  17  18.0  19.0\n",
      "2018-01-06  20  21  22.0  23.0\n",
      "----------\n",
      "                A      B      C      D\n",
      "2018-01-01  False  False  False   True\n",
      "2018-01-02  False  False   True  False\n",
      "2018-01-03  False  False  False  False\n",
      "2018-01-04  False  False  False  False\n",
      "2018-01-05  False  False  False  False\n",
      "2018-01-06  False  False  False  False\n",
      "True\n",
      "False\n",
      "True\n"
     ]
    }
   ],
   "source": [
    "dates = pd.date_range('20180101', periods=6)\n",
    "df2 = pd.DataFrame(np.arange(24).reshape(6, 4), index = dates, columns = ['A', 'B', 'C', 'D'])\n",
    "df2.iloc[1, 2] = np.nan\n",
    "df2.iloc[0, 3] = np.nan\n",
    "print(df2)\n",
    "print('-'*10)\n",
    "#清理缺失值\n",
    "print(df2.dropna(axis = 1, how = 'any')) #how=['any'->只要有缺失值就刪掉, 'all'->整欄或整列都是缺失值才刪掉]\n",
    "print(df2.fillna(value = 0))\n",
    "print('-'*10)\n",
    "#是否有缺失值\n",
    "print(df2.isnull())\n",
    "print(np.any(df2.isnull())) #單純想知道是不是有缺失值\n",
    "print(np.any(df2.isnull()) == False) #道理同上\n",
    "print(np.any(df2.isnull()) == True)"
   ]
  },
  {
   "cell_type": "code",
   "execution_count": 130,
   "metadata": {},
   "outputs": [],
   "source": [
    "#pandas導入導出 \n",
    "#pd.read_csv('name.csv')\n",
    "#pd.to_csv('newname.csv')\n",
    "#其他檔案格式均相同"
   ]
  },
  {
   "cell_type": "code",
   "execution_count": 137,
   "metadata": {},
   "outputs": [
    {
     "name": "stdout",
     "output_type": "stream",
     "text": [
      "     a    b    c    d\n",
      "0  0.0  0.0  0.0  0.0\n",
      "1  0.0  0.0  0.0  0.0\n",
      "2  0.0  0.0  0.0  0.0      a    b    c    d\n",
      "0  1.0  1.0  1.0  1.0\n",
      "1  1.0  1.0  1.0  1.0\n",
      "2  1.0  1.0  1.0  1.0      a    b    c    d\n",
      "0  2.0  2.0  2.0  2.0\n",
      "1  2.0  2.0  2.0  2.0\n",
      "2  2.0  2.0  2.0  2.0\n",
      "----------\n",
      "     a    b    c    d\n",
      "0  0.0  0.0  0.0  0.0\n",
      "1  0.0  0.0  0.0  0.0\n",
      "2  0.0  0.0  0.0  0.0\n",
      "0  0.0  0.0  0.0  0.0\n",
      "1  0.0  0.0  0.0  0.0\n",
      "2  0.0  0.0  0.0  0.0\n",
      "0  2.0  2.0  2.0  2.0\n",
      "1  2.0  2.0  2.0  2.0\n",
      "2  2.0  2.0  2.0  2.0\n",
      "----------\n",
      "     a    b    c    d\n",
      "0  0.0  0.0  0.0  0.0\n",
      "1  0.0  0.0  0.0  0.0\n",
      "2  0.0  0.0  0.0  0.0\n",
      "3  0.0  0.0  0.0  0.0\n",
      "4  0.0  0.0  0.0  0.0\n",
      "5  0.0  0.0  0.0  0.0\n",
      "6  2.0  2.0  2.0  2.0\n",
      "7  2.0  2.0  2.0  2.0\n",
      "8  2.0  2.0  2.0  2.0\n"
     ]
    }
   ],
   "source": [
    "#合併concat\n",
    "df1 = pd.DataFrame(np.ones((3,4))*0, columns=['a','b','c','d'])\n",
    "df2 = pd.DataFrame(np.ones((3,4))*1, columns=['a','b','c','d'])\n",
    "df3 = pd.DataFrame(np.ones((3,4))*2, columns=['a','b','c','d'])\n",
    "print(df1, df2, df3)\n",
    "print('-'*10)\n",
    "print(pd.concat((df1, df1, df3), axis = 0))\n",
    "print('-'*10)\n",
    "print(pd.concat((df1, df1, df3), axis = 0, ignore_index = True)) #讓索引值重新排列"
   ]
  },
  {
   "cell_type": "code",
   "execution_count": 150,
   "metadata": {},
   "outputs": [
    {
     "name": "stdout",
     "output_type": "stream",
     "text": [
      "     a    b    c    d    e\n",
      "1  0.0  0.0  0.0  0.0  NaN\n",
      "2  0.0  0.0  0.0  0.0  NaN\n",
      "3  0.0  0.0  0.0  0.0  NaN\n",
      "2  NaN  1.0  1.0  1.0  1.0\n",
      "3  NaN  1.0  1.0  1.0  1.0\n",
      "4  NaN  1.0  1.0  1.0  1.0\n",
      "----------\n",
      "     a    b    c    d    e\n",
      "1  0.0  0.0  0.0  0.0  NaN\n",
      "2  0.0  0.0  0.0  0.0  NaN\n",
      "3  0.0  0.0  0.0  0.0  NaN\n",
      "2  NaN  1.0  1.0  1.0  1.0\n",
      "3  NaN  1.0  1.0  1.0  1.0\n",
      "4  NaN  1.0  1.0  1.0  1.0\n",
      "----------\n",
      "     b    c    d\n",
      "0  0.0  0.0  0.0\n",
      "1  0.0  0.0  0.0\n",
      "2  0.0  0.0  0.0\n",
      "3  1.0  1.0  1.0\n",
      "4  1.0  1.0  1.0\n",
      "5  1.0  1.0  1.0\n",
      "----------\n",
      "     a    b    c    d    b    c    d    e\n",
      "1  0.0  0.0  0.0  0.0  NaN  NaN  NaN  NaN\n",
      "2  0.0  0.0  0.0  0.0  1.0  1.0  1.0  1.0\n",
      "3  0.0  0.0  0.0  0.0  1.0  1.0  1.0  1.0\n",
      "4  NaN  NaN  NaN  NaN  1.0  1.0  1.0  1.0\n",
      "     a    b    c    d    b    c    d    e\n",
      "1  0.0  0.0  0.0  0.0  NaN  NaN  NaN  NaN\n",
      "2  0.0  0.0  0.0  0.0  1.0  1.0  1.0  1.0\n",
      "3  0.0  0.0  0.0  0.0  1.0  1.0  1.0  1.0\n"
     ]
    }
   ],
   "source": [
    "#concat的參數之一join = 'outer' or 'inner'\n",
    "df1 = pd.DataFrame(np.ones((3,4))*0, columns=['a','b','c','d'], index=[1,2,3])\n",
    "df2 = pd.DataFrame(np.ones((3,4))*1, columns=['b','c','d', 'e'], index=[2,3,4])\n",
    "print(pd.concat([df1, df2])) #join默認值為outer\n",
    "print('-'*10)\n",
    "print(pd.concat([df1, df2], join = 'outer')) #跟上述功能相同，outer將空白的地方填入空缺值\n",
    "print('-'*10)\n",
    "print(pd.concat([df1, df2], join = 'inner', ignore_index = True)) #inner只合併兩個df都有的欄位\n",
    "print('-'*10)\n",
    "#axis = 1合併\n",
    "print(pd.concat([df1, df2], axis = 1))\n",
    "print(pd.concat([df1, df2], axis = 1, join_axes = [df1.index])) #加入join_axes參數定義合併後的index以df1為主"
   ]
  },
  {
   "cell_type": "code",
   "execution_count": 155,
   "metadata": {},
   "outputs": [
    {
     "name": "stdout",
     "output_type": "stream",
     "text": [
      "     a    b    c    d\n",
      "0  0.0  0.0  0.0  0.0\n",
      "1  0.0  0.0  0.0  0.0\n",
      "2  0.0  0.0  0.0  0.0\n",
      "3  1.0  1.0  1.0  1.0\n",
      "4  1.0  1.0  1.0  1.0\n",
      "5  1.0  1.0  1.0  1.0\n",
      "----------\n",
      "     a    b    c    d\n",
      "0  0.0  0.0  0.0  0.0\n",
      "1  0.0  0.0  0.0  0.0\n",
      "2  0.0  0.0  0.0  0.0\n",
      "3  1.0  1.0  1.0  1.0\n",
      "4  1.0  1.0  1.0  1.0\n",
      "5  1.0  1.0  1.0  1.0\n",
      "6  1.0  1.0  1.0  1.0\n",
      "7  1.0  1.0  1.0  1.0\n",
      "8  1.0  1.0  1.0  1.0\n",
      "----------\n",
      "     a    b    c    d\n",
      "0  0.0  0.0  0.0  0.0\n",
      "1  0.0  0.0  0.0  0.0\n",
      "2  0.0  0.0  0.0  0.0\n",
      "3  1.0  2.0  3.0  4.0\n"
     ]
    }
   ],
   "source": [
    "#append, 上下連接df, 無法橫向連接也沒有橫向連接的參數\n",
    "df1 = pd.DataFrame(np.ones((3,4))*0, columns=['a','b','c','d'])\n",
    "df2 = pd.DataFrame(np.ones((3,4))*1, columns=['a','b','c','d'])\n",
    "df3 = pd.DataFrame(np.ones((3,4))*1, columns=['a','b','c','d'])\n",
    "s1 = pd.Series([1,2,3,4], index=['a','b','c','d'])\n",
    "print(df1.append(df2, ignore_index = True))\n",
    "print('-'*10)\n",
    "print(df1.append([df2, df3], ignore_index = True))\n",
    "print('-'*10)\n",
    "print(df1.append(s1, ignore_index = True)) "
   ]
  },
  {
   "cell_type": "code",
   "execution_count": 171,
   "metadata": {},
   "outputs": [
    {
     "name": "stdout",
     "output_type": "stream",
     "text": [
      "    A   B key\n",
      "0  A0  B0  K0\n",
      "1  A1  B1  K1\n",
      "2  A2  B2  K2\n",
      "3  A3  B3  K3\n",
      "    C   D key\n",
      "0  C0  D0  K0\n",
      "1  C1  D1  K1\n",
      "2  C2  D2  K2\n",
      "3  C3  D3  K3\n",
      "    A   B key   C   D\n",
      "0  A0  B0  K0  C0  D0\n",
      "1  A1  B1  K1  C1  D1\n",
      "2  A2  B2  K2  C2  D2\n",
      "3  A3  B3  K3  C3  D3\n",
      "----------\n",
      "    A   B key1 key2\n",
      "0  A0  B0   K0   K0\n",
      "1  A1  B1   K0   K1\n",
      "2  A2  B2   K1   K0\n",
      "3  A3  B3   K2   K1\n",
      "    C   D key1 key2\n",
      "0  C0  D0   K0   K0\n",
      "1  C1  D1   K1   K0\n",
      "2  C2  D2   K1   K0\n",
      "3  C3  D3   K2   K0\n",
      "    A   B key1 key2   C   D _merge\n",
      "0  A0  B0   K0   K0  C0  D0   both\n",
      "1  A2  B2   K1   K0  C1  D1   both\n",
      "2  A2  B2   K1   K0  C2  D2   both\n",
      "    A   B key1 key2    C    D indicator column\n",
      "0  A0  B0   K0   K0   C0   D0             both\n",
      "1  A1  B1   K0   K1  NaN  NaN        left_only\n",
      "2  A2  B2   K1   K0   C1   D1             both\n",
      "3  A2  B2   K1   K0   C2   D2             both\n",
      "4  A3  B3   K2   K1  NaN  NaN        left_only\n"
     ]
    }
   ],
   "source": [
    "#merge\n",
    "left = pd.DataFrame({'key': ['K0', 'K1', 'K2', 'K3'],\n",
    "'A': ['A0', 'A1', 'A2', 'A3'],\n",
    "'B': ['B0', 'B1', 'B2', 'B3']})\n",
    "right = pd.DataFrame({'key': ['K0', 'K1', 'K2', 'K3'],\n",
    "'C': ['C0', 'C1', 'C2', 'C3'],\n",
    "'D': ['D0', 'D1', 'D2', 'D3']})\n",
    "print(left)\n",
    "print(right)\n",
    "print(pd.merge(left, right, on='key')) #on是在某欄位為主去合併\n",
    "print('-'*10)\n",
    "#consider two keys\n",
    "left = pd.DataFrame({'key1': ['K0', 'K0', 'K1', 'K2'],\n",
    "'key2': ['K0', 'K1', 'K0', 'K1'],\n",
    "'A': ['A0', 'A1', 'A2', 'A3'],\n",
    "'B': ['B0', 'B1', 'B2', 'B3']})\n",
    "right = pd.DataFrame({'key1': ['K0', 'K1', 'K1', 'K2'],\n",
    "'key2': ['K0', 'K0', 'K0', 'K0'],\n",
    "'C': ['C0', 'C1', 'C2', 'C3'],\n",
    "'D': ['D0', 'D1', 'D2', 'D3']})\n",
    "print(left)\n",
    "print(right)\n",
    "print(pd.merge(left, right, on=['key1', 'key2'], indicator = True))  # 默認值how='inner' #可以加indicator參數可以顯示出merge的方式\n",
    "# how = ['left', 'right', 'outer', 'inner']\n",
    "print(pd.merge(left, right, on=['key1', 'key2'], how='left', indicator = 'indicator column')) #將indicator欄位重新命名\n"
   ]
  },
  {
   "cell_type": "code",
   "execution_count": 172,
   "metadata": {},
   "outputs": [
    {
     "name": "stdout",
     "output_type": "stream",
     "text": [
      "     A   B\n",
      "K0  A0  B0\n",
      "K1  A1  B1\n",
      "K2  A2  B2\n",
      "     C   D\n",
      "K0  C0  D0\n",
      "K2  C2  D2\n",
      "K3  C3  D3\n",
      "      A    B    C    D\n",
      "K0   A0   B0   C0   D0\n",
      "K1   A1   B1  NaN  NaN\n",
      "K2   A2   B2   C2   D2\n",
      "K3  NaN  NaN   C3   D3\n",
      "     A   B   C   D\n",
      "K0  A0  B0  C0  D0\n",
      "K2  A2  B2  C2  D2\n"
     ]
    }
   ],
   "source": [
    "# merged by index\n",
    "left = pd.DataFrame({'A': ['A0', 'A1', 'A2'],\n",
    "'B': ['B0', 'B1', 'B2']},\n",
    "index=['K0', 'K1', 'K2'])\n",
    "right = pd.DataFrame({'C': ['C0', 'C2', 'C3'],\n",
    "'D': ['D0', 'D2', 'D3']},\n",
    "index=['K0', 'K2', 'K3'])\n",
    "print(left)\n",
    "print(right)\n",
    "# left_index and right_index\n",
    "print(pd.merge(left, right, left_index=True, right_index=True, how='outer'))\n",
    "print(pd.merge(left, right, left_index=True, right_index=True, how='inner'))"
   ]
  },
  {
   "cell_type": "code",
   "execution_count": 174,
   "metadata": {},
   "outputs": [
    {
     "name": "stdout",
     "output_type": "stream",
     "text": [
      "   age_boy   k  age_girl\n",
      "0      1.0  K0       4.0\n",
      "1      1.0  K0       5.0\n",
      "2      2.0  K1       NaN\n",
      "3      3.0  K2       NaN\n",
      "4      NaN  K3       6.0\n"
     ]
    }
   ],
   "source": [
    "# handle overlapping -> 'age'\n",
    "boys = pd.DataFrame({'k': ['K0', 'K1', 'K2'], 'age': [1, 2, 3]})\n",
    "girls = pd.DataFrame({'k': ['K0', 'K0', 'K3'], 'age': [4, 5, 6]})\n",
    "print(pd.merge(boys, girls, on='k', suffixes=['_boy', '_girl'], how='outer')) #suffixes將男女年紀分開"
   ]
  },
  {
   "cell_type": "code",
   "execution_count": 198,
   "metadata": {},
   "outputs": [
    {
     "data": {
      "text/plain": [
       "'Reference:\\n    https://www.youtube.com/channel/UCdyjiB5H8Pu7aDTNVXTTpcg'"
      ]
     },
     "execution_count": 198,
     "metadata": {},
     "output_type": "execute_result"
    }
   ],
   "source": [
    "'''Reference:\n",
    "    https://www.youtube.com/channel/UCdyjiB5H8Pu7aDTNVXTTpcg'''"
   ]
  },
  {
   "cell_type": "code",
   "execution_count": null,
   "metadata": {},
   "outputs": [],
   "source": []
  }
 ],
 "metadata": {
  "kernelspec": {
   "display_name": "Python 3",
   "language": "python",
   "name": "python3"
  },
  "language_info": {
   "codemirror_mode": {
    "name": "ipython",
    "version": 3
   },
   "file_extension": ".py",
   "mimetype": "text/x-python",
   "name": "python",
   "nbconvert_exporter": "python",
   "pygments_lexer": "ipython3",
   "version": "3.6.3"
  }
 },
 "nbformat": 4,
 "nbformat_minor": 2
}
